{
 "cells": [
  {
   "cell_type": "code",
   "execution_count": null,
   "id": "f43ab731",
   "metadata": {},
   "outputs": [],
   "source": [
    "def compute_kernel_matrix(data, kernel_type, kernel_param):\n",
    "    \"\"\"\n",
    "    Compute Kernel Matrix Function\n",
    "\n",
    "    PARAMETERS:\n",
    "    - data: input data as an ndarray of shape (n_samples, n_features)\n",
    "    - kernel_type: type of kernel ('rbf', 'poly', or 'linear')\n",
    "    - kernel_param: kernel parameter (e.g., gamma for RBF, degree for polynomial)\n",
    "\n",
    "    RETURNS:\n",
    "    - Kernel matrix.\n",
    "    - n_samples, the number of samples in the input data (in this case, 200).\n",
    "    \"\"\"#\n",
    "\n",
    "    n_samples = data.shape[0]\n",
    "    kernel_matrix = np.zeros((n_samples, n_samples))\n",
    "\n",
    "    for i in range(n_samples):\n",
    "        for j in range(n_samples):\n",
    "            if (kernel_type=='rbf'):\n",
    "                kernel_matrix[i, j] = rbf_kernel(data[i], data[j], kernel_param)\n",
    "            elif (kernel_type=='poly'):\n",
    "                kernel_matrix[i, j] = poly_kernel(data[i], data[j], kernel_param)\n",
    "            elif (kernel_type=='linear'):\n",
    "                kernel_matrix[i, j] = linear_kernel(data[i], data[j])\n",
    "                \n",
    "\n",
    "    return kernel_matrix, n_samples"
   ]
  }
 ],
 "metadata": {
  "kernelspec": {
   "display_name": "Python 3 (ipykernel)",
   "language": "python",
   "name": "python3"
  },
  "language_info": {
   "codemirror_mode": {
    "name": "ipython",
    "version": 3
   },
   "file_extension": ".py",
   "mimetype": "text/x-python",
   "name": "python",
   "nbconvert_exporter": "python",
   "pygments_lexer": "ipython3",
   "version": "3.11.4"
  }
 },
 "nbformat": 4,
 "nbformat_minor": 5
}
