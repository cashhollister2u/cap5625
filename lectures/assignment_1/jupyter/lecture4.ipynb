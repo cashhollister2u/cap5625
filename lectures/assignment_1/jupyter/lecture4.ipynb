{
 "cells": [
  {
   "cell_type": "code",
   "execution_count": 1,
   "id": "d313d463",
   "metadata": {},
   "outputs": [],
   "source": [
    "import pandas as pd\n",
    "import numpy as np"
   ]
  },
  {
   "cell_type": "code",
   "execution_count": 2,
   "id": "cc543f9f",
   "metadata": {},
   "outputs": [
    {
     "data": {
      "text/html": [
       "<div>\n",
       "<style scoped>\n",
       "    .dataframe tbody tr th:only-of-type {\n",
       "        vertical-align: middle;\n",
       "    }\n",
       "\n",
       "    .dataframe tbody tr th {\n",
       "        vertical-align: top;\n",
       "    }\n",
       "\n",
       "    .dataframe thead th {\n",
       "        text-align: right;\n",
       "    }\n",
       "</style>\n",
       "<table border=\"1\" class=\"dataframe\">\n",
       "  <thead>\n",
       "    <tr style=\"text-align: right;\">\n",
       "      <th></th>\n",
       "      <th>Sepal Length</th>\n",
       "      <th>Sepal Width</th>\n",
       "      <th>Petal Length</th>\n",
       "      <th>Petal Width</th>\n",
       "      <th>Class</th>\n",
       "    </tr>\n",
       "  </thead>\n",
       "  <tbody>\n",
       "    <tr>\n",
       "      <th>0</th>\n",
       "      <td>5.9</td>\n",
       "      <td>3.0</td>\n",
       "      <td>4.2</td>\n",
       "      <td>1.5</td>\n",
       "      <td>Iris-versicolor</td>\n",
       "    </tr>\n",
       "    <tr>\n",
       "      <th>1</th>\n",
       "      <td>6.9</td>\n",
       "      <td>3.1</td>\n",
       "      <td>4.9</td>\n",
       "      <td>1.5</td>\n",
       "      <td>Iris-versicolor</td>\n",
       "    </tr>\n",
       "    <tr>\n",
       "      <th>2</th>\n",
       "      <td>6.6</td>\n",
       "      <td>2.9</td>\n",
       "      <td>4.6</td>\n",
       "      <td>1.3</td>\n",
       "      <td>Iris-versicolor</td>\n",
       "    </tr>\n",
       "    <tr>\n",
       "      <th>3</th>\n",
       "      <td>4.6</td>\n",
       "      <td>3.2</td>\n",
       "      <td>1.4</td>\n",
       "      <td>0.2</td>\n",
       "      <td>Iris-setosa</td>\n",
       "    </tr>\n",
       "    <tr>\n",
       "      <th>4</th>\n",
       "      <td>6.0</td>\n",
       "      <td>2.2</td>\n",
       "      <td>4.0</td>\n",
       "      <td>1.0</td>\n",
       "      <td>Iris-versicolor</td>\n",
       "    </tr>\n",
       "  </tbody>\n",
       "</table>\n",
       "</div>"
      ],
      "text/plain": [
       "   Sepal Length  Sepal Width  Petal Length   Petal Width            Class\n",
       "0           5.9          3.0           4.2           1.5  Iris-versicolor\n",
       "1           6.9          3.1           4.9           1.5  Iris-versicolor\n",
       "2           6.6          2.9           4.6           1.3  Iris-versicolor\n",
       "3           4.6          3.2           1.4           0.2      Iris-setosa\n",
       "4           6.0          2.2           4.0           1.0  Iris-versicolor"
      ]
     },
     "execution_count": 2,
     "metadata": {},
     "output_type": "execute_result"
    }
   ],
   "source": [
    "df=pd.read_csv('iris.csv')\n",
    "df.head()"
   ]
  },
  {
   "cell_type": "code",
   "execution_count": 3,
   "id": "dc62d662",
   "metadata": {},
   "outputs": [
    {
     "data": {
      "text/html": [
       "<div>\n",
       "<style scoped>\n",
       "    .dataframe tbody tr th:only-of-type {\n",
       "        vertical-align: middle;\n",
       "    }\n",
       "\n",
       "    .dataframe tbody tr th {\n",
       "        vertical-align: top;\n",
       "    }\n",
       "\n",
       "    .dataframe thead th {\n",
       "        text-align: right;\n",
       "    }\n",
       "</style>\n",
       "<table border=\"1\" class=\"dataframe\">\n",
       "  <thead>\n",
       "    <tr style=\"text-align: right;\">\n",
       "      <th></th>\n",
       "      <th>Sepal Length</th>\n",
       "      <th>Sepal Width</th>\n",
       "    </tr>\n",
       "  </thead>\n",
       "  <tbody>\n",
       "    <tr>\n",
       "      <th>0</th>\n",
       "      <td>5.9</td>\n",
       "      <td>3.0</td>\n",
       "    </tr>\n",
       "    <tr>\n",
       "      <th>1</th>\n",
       "      <td>6.9</td>\n",
       "      <td>3.1</td>\n",
       "    </tr>\n",
       "    <tr>\n",
       "      <th>2</th>\n",
       "      <td>6.6</td>\n",
       "      <td>2.9</td>\n",
       "    </tr>\n",
       "    <tr>\n",
       "      <th>3</th>\n",
       "      <td>4.6</td>\n",
       "      <td>3.2</td>\n",
       "    </tr>\n",
       "    <tr>\n",
       "      <th>4</th>\n",
       "      <td>6.0</td>\n",
       "      <td>2.2</td>\n",
       "    </tr>\n",
       "  </tbody>\n",
       "</table>\n",
       "</div>"
      ],
      "text/plain": [
       "   Sepal Length  Sepal Width\n",
       "0           5.9          3.0\n",
       "1           6.9          3.1\n",
       "2           6.6          2.9\n",
       "3           4.6          3.2\n",
       "4           6.0          2.2"
      ]
     },
     "execution_count": 3,
     "metadata": {},
     "output_type": "execute_result"
    }
   ],
   "source": [
    "D=df.iloc[:,0:2]\n",
    "D.head()"
   ]
  },
  {
   "cell_type": "code",
   "execution_count": 27,
   "id": "a296e7a0",
   "metadata": {},
   "outputs": [
    {
     "data": {
      "image/png": "[encoded data removed]",
      "text/plain": [
       "<Figure size 640x480 with 1 Axes>"
      ]
     },
     "metadata": {},
     "output_type": "display_data"
    }
   ],
   "source": [
    "import matplotlib.pyplot as plt\n",
    "plt.scatter(D[:,0],D[:,1])\n",
    "plt.xlim([0,10])\n",
    "plt.ylim([0,10])\n",
    "plt.grid()"
   ]
  },
  {
   "cell_type": "code",
   "execution_count": 5,
   "id": "ee185cf3",
   "metadata": {},
   "outputs": [
    {
     "name": "stdout",
     "output_type": "stream",
     "text": [
      "2\n"
     ]
    }
   ],
   "source": [
    "print(D.shape[1])"
   ]
  },
  {
   "cell_type": "code",
   "execution_count": 8,
   "id": "e739a93d",
   "metadata": {},
   "outputs": [],
   "source": [
    "D=D.to_numpy()"
   ]
  },
  {
   "cell_type": "code",
   "execution_count": 9,
   "id": "71f3f491",
   "metadata": {},
   "outputs": [
    {
     "name": "stdout",
     "output_type": "stream",
     "text": [
      "[5.84333333 3.054     ]\n"
     ]
    }
   ],
   "source": [
    "# Compute mean vector\n",
    "mu=np.mean(D,axis=0)\n",
    "print(mu)"
   ]
  },
  {
   "cell_type": "markdown",
   "id": "2b4fe411",
   "metadata": {},
   "source": [
    "# Compute the covraiance Matrix by using Inner Product:\n",
    "D_bar=D-1 mu^T\n",
    "Cov=1/n D_bat^T D_bar\n"
   ]
  },
  {
   "cell_type": "code",
   "execution_count": 12,
   "id": "84b0185a",
   "metadata": {},
   "outputs": [
    {
     "name": "stdout",
     "output_type": "stream",
     "text": [
      "[[ 0.68112222 -0.03900667]\n",
      " [-0.03900667  0.18675067]]\n"
     ]
    }
   ],
   "source": [
    "D_bar=D-np.mean(D,axis=0) # center your data\n",
    "cov_matrix=1/D.shape[0]*np.dot(D_bar.T,D_bar)\n",
    "print(cov_matrix)"
   ]
  },
  {
   "cell_type": "code",
   "execution_count": 28,
   "id": "617398e8",
   "metadata": {},
   "outputs": [
    {
     "data": {
      "image/png": "[encoded data removed]",
      "text/plain": [
       "<Figure size 640x480 with 1 Axes>"
      ]
     },
     "metadata": {},
     "output_type": "display_data"
    }
   ],
   "source": [
    "plt.scatter(D[:,0],D[:,1])\n",
    "plt.scatter(D_bar[:,0],D_bar[:,1],color='red')\n",
    "plt.xlim([-10,10])\n",
    "plt.ylim([-10,10])\n",
    "plt.grid()"
   ]
  },
  {
   "cell_type": "markdown",
   "id": "131989fa",
   "metadata": {},
   "source": [
    "# Compute the covraiance Matrix by using outer Product:\n"
   ]
  },
  {
   "cell_type": "code",
   "execution_count": 20,
   "id": "3a97b136",
   "metadata": {},
   "outputs": [],
   "source": [
    "n=D_bar.shape[0]\n",
    "cov_m=np.zeros((D_bar.shape[1],D_bar.shape[1]))\n",
    "for i in range(n):\n",
    "    cov_m+=np.outer(D_bar[i],D_bar[i])\n",
    "   # cov_m+=D_bar[i].T @ D_bar[i]\n",
    "    \n",
    "cov_m=cov_m/n    "
   ]
  },
  {
   "cell_type": "code",
   "execution_count": 21,
   "id": "9c47decf",
   "metadata": {},
   "outputs": [
    {
     "name": "stdout",
     "output_type": "stream",
     "text": [
      "[[0.86787289 0.86787289]\n",
      " [0.86787289 0.86787289]]\n"
     ]
    }
   ],
   "source": [
    "print(cov_m)"
   ]
  },
  {
   "cell_type": "markdown",
   "id": "35150cff",
   "metadata": {},
   "source": [
    "# Compute Eigen Values and Eigen Vectors"
   ]
  },
  {
   "cell_type": "code",
   "execution_count": 29,
   "id": "f4c20db3",
   "metadata": {},
   "outputs": [],
   "source": [
    "eigen_values,eigen_vectors=np.linalg.eig(cov_m)"
   ]
  },
  {
   "cell_type": "code",
   "execution_count": 30,
   "id": "30994d39",
   "metadata": {},
   "outputs": [
    {
     "name": "stdout",
     "output_type": "stream",
     "text": [
      "[ 1.73574578e+00 -1.92706493e-16]\n"
     ]
    }
   ],
   "source": [
    "print(eigen_values)"
   ]
  },
  {
   "cell_type": "code",
   "execution_count": 31,
   "id": "7abb7126",
   "metadata": {},
   "outputs": [
    {
     "name": "stdout",
     "output_type": "stream",
     "text": [
      "[[ 0.70710678 -0.70710678]\n",
      " [ 0.70710678  0.70710678]]\n"
     ]
    }
   ],
   "source": [
    "print(eigen_vectors)"
   ]
  },
  {
   "cell_type": "code",
   "execution_count": 32,
   "id": "d9d320ed",
   "metadata": {},
   "outputs": [
    {
     "name": "stdout",
     "output_type": "stream",
     "text": [
      "[ 0.70710678 -0.70710678]\n"
     ]
    }
   ],
   "source": [
    "# Project Your Data to the eigen vector that correspond to the max eig value\n",
    "v=eigen_vectors[0]\n",
    "print(v)"
   ]
  },
  {
   "cell_type": "code",
   "execution_count": 33,
   "id": "cb37bdc7",
   "metadata": {},
   "outputs": [
    {
     "name": "stdout",
     "output_type": "stream",
     "text": [
      "1.0\n"
     ]
    }
   ],
   "source": [
    "print(np.linalg.norm(v,2))"
   ]
  },
  {
   "cell_type": "code",
   "execution_count": 37,
   "id": "094bec83",
   "metadata": {},
   "outputs": [
    {
     "name": "stdout",
     "output_type": "stream",
     "text": [
      "[[ 0.05533333 -0.05533333]\n",
      " [ 0.50533333 -0.50533333]\n",
      " [ 0.45533333 -0.45533333]\n",
      " [-0.69466667  0.69466667]\n",
      " [ 0.50533333 -0.50533333]\n",
      " [-0.64466667  0.64466667]\n",
      " [ 0.35533333 -0.35533333]\n",
      " [ 0.15533333 -0.15533333]\n",
      " [ 0.40533333 -0.40533333]\n",
      " [ 0.70533333 -0.70533333]\n",
      " [-0.69466667  0.69466667]\n",
      " [-0.74466667  0.74466667]\n",
      " [-0.04466667  0.04466667]\n",
      " [ 0.15533333 -0.15533333]\n",
      " [-0.49466667  0.49466667]\n",
      " [-0.59466667  0.59466667]\n",
      " [-0.59466667  0.59466667]\n",
      " [ 0.05533333 -0.05533333]\n",
      " [-0.54466667  0.54466667]\n",
      " [ 0.60533333 -0.60533333]\n",
      " [ 0.05533333 -0.05533333]\n",
      " [ 0.35533333 -0.35533333]\n",
      " [-0.74466667  0.74466667]\n",
      " [ 0.10533333 -0.10533333]\n",
      " [-0.19466667  0.19466667]\n",
      " [-0.64466667  0.64466667]\n",
      " [ 0.20533333 -0.20533333]\n",
      " [-0.64466667  0.64466667]\n",
      " [ 0.70533333 -0.70533333]\n",
      " [ 0.40533333 -0.40533333]\n",
      " [-0.64466667  0.64466667]\n",
      " [-0.49466667  0.49466667]\n",
      " [ 0.20533333 -0.20533333]\n",
      " [ 0.20533333 -0.20533333]\n",
      " [-0.09466667  0.09466667]\n",
      " [ 0.15533333 -0.15533333]\n",
      " [ 0.15533333 -0.15533333]\n",
      " [-0.74466667  0.74466667]\n",
      " [ 0.60533333 -0.60533333]\n",
      " [ 0.50533333 -0.50533333]\n",
      " [-0.09466667  0.09466667]\n",
      " [ 0.15533333 -0.15533333]\n",
      " [ 0.50533333 -0.50533333]\n",
      " [ 0.80533333 -0.80533333]\n",
      " [ 0.05533333 -0.05533333]\n",
      " [-0.49466667  0.49466667]\n",
      " [ 0.65533333 -0.65533333]\n",
      " [ 0.15533333 -0.15533333]\n",
      " [-0.59466667  0.59466667]\n",
      " [-0.44466667  0.44466667]\n",
      " [ 0.00533333 -0.00533333]\n",
      " [ 0.00533333 -0.00533333]\n",
      " [-0.69466667  0.69466667]\n",
      " [ 0.10533333 -0.10533333]\n",
      " [-0.39466667  0.39466667]\n",
      " [ 0.05533333 -0.05533333]\n",
      " [ 0.50533333 -0.50533333]\n",
      " [ 0.95533333 -0.95533333]\n",
      " [ 0.25533333 -0.25533333]\n",
      " [-0.04466667  0.04466667]\n",
      " [ 0.35533333 -0.35533333]\n",
      " [ 0.45533333 -0.45533333]\n",
      " [-0.64466667  0.64466667]\n",
      " [-0.49466667  0.49466667]\n",
      " [-0.09466667  0.09466667]\n",
      " [-0.19466667  0.19466667]\n",
      " [ 0.10533333 -0.10533333]\n",
      " [-0.49466667  0.49466667]\n",
      " [-0.89466667  0.89466667]\n",
      " [-0.49466667  0.49466667]\n",
      " [ 0.65533333 -0.65533333]\n",
      " [ 1.15533333 -1.15533333]\n",
      " [ 0.25533333 -0.25533333]\n",
      " [-0.39466667  0.39466667]\n",
      " [-0.79466667  0.79466667]\n",
      " [-0.64466667  0.64466667]\n",
      " [-0.64466667  0.64466667]\n",
      " [ 0.30533333 -0.30533333]\n",
      " [-0.49466667  0.49466667]\n",
      " [ 0.15533333 -0.15533333]\n",
      " [ 0.00533333 -0.00533333]\n",
      " [-0.04466667  0.04466667]\n",
      " [ 0.20533333 -0.20533333]\n",
      " [ 0.30533333 -0.30533333]\n",
      " [ 0.45533333 -0.45533333]\n",
      " [ 0.10533333 -0.10533333]\n",
      " [-0.04466667  0.04466667]\n",
      " [ 0.30533333 -0.30533333]\n",
      " [-0.64466667  0.64466667]\n",
      " [ 0.40533333 -0.40533333]\n",
      " [-0.69466667  0.69466667]\n",
      " [-0.79466667  0.79466667]\n",
      " [ 0.20533333 -0.20533333]\n",
      " [ 0.60533333 -0.60533333]\n",
      " [ 0.50533333 -0.50533333]\n",
      " [ 0.90533333 -0.90533333]\n",
      " [-0.14466667  0.14466667]\n",
      " [ 0.50533333 -0.50533333]\n",
      " [ 0.15533333 -0.15533333]\n",
      " [ 0.10533333 -0.10533333]\n",
      " [ 0.60533333 -0.60533333]\n",
      " [ 0.20533333 -0.20533333]\n",
      " [ 0.25533333 -0.25533333]\n",
      " [ 0.30533333 -0.30533333]\n",
      " [ 0.40533333 -0.40533333]\n",
      " [-0.69466667  0.69466667]\n",
      " [-0.44466667  0.44466667]\n",
      " [ 0.45533333 -0.45533333]\n",
      " [-0.29466667  0.29466667]\n",
      " [-0.74466667  0.74466667]\n",
      " [-0.14466667  0.14466667]\n",
      " [-0.69466667  0.69466667]\n",
      " [ 0.35533333 -0.35533333]\n",
      " [-0.54466667  0.54466667]\n",
      " [ 0.15533333 -0.15533333]\n",
      " [-0.74466667  0.74466667]\n",
      " [ 0.90533333 -0.90533333]\n",
      " [ 0.35533333 -0.35533333]\n",
      " [ 0.25533333 -0.25533333]\n",
      " [ 0.50533333 -0.50533333]\n",
      " [ 0.15533333 -0.15533333]\n",
      " [-0.39466667  0.39466667]\n",
      " [ 0.40533333 -0.40533333]\n",
      " [ 0.25533333 -0.25533333]\n",
      " [-0.59466667  0.59466667]\n",
      " [-0.54466667  0.54466667]\n",
      " [ 0.05533333 -0.05533333]\n",
      " [-0.74466667  0.74466667]\n",
      " [ 0.40533333 -0.40533333]\n",
      " [ 0.40533333 -0.40533333]\n",
      " [-0.84466667  0.84466667]\n",
      " [ 0.40533333 -0.40533333]\n",
      " [ 1.05533333 -1.05533333]\n",
      " [-0.49466667  0.49466667]\n",
      " [-0.49466667  0.49466667]\n",
      " [-0.54466667  0.54466667]\n",
      " [-0.59466667  0.59466667]\n",
      " [-0.09466667  0.09466667]\n",
      " [ 0.35533333 -0.35533333]\n",
      " [ 0.15533333 -0.15533333]\n",
      " [ 0.40533333 -0.40533333]\n",
      " [ 0.50533333 -0.50533333]\n",
      " [ 0.25533333 -0.25533333]\n",
      " [ 0.45533333 -0.45533333]\n",
      " [ 0.10533333 -0.10533333]\n",
      " [-0.39466667  0.39466667]\n",
      " [ 0.05533333 -0.05533333]\n",
      " [ 0.45533333 -0.45533333]\n",
      " [ 0.55533333 -0.55533333]\n",
      " [-0.54466667  0.54466667]]\n"
     ]
    }
   ],
   "source": [
    "projected_data=np.dot(D_bar,v)[:,np.newaxis]*v\n",
    "print(projected_data)"
   ]
  },
  {
   "cell_type": "code",
   "execution_count": 38,
   "id": "bfbce50a",
   "metadata": {},
   "outputs": [
    {
     "data": {
      "image/png": "[encoded data removed]",
      "text/plain": [
       "<Figure size 640x480 with 1 Axes>"
      ]
     },
     "metadata": {},
     "output_type": "display_data"
    }
   ],
   "source": [
    "plt.scatter(D[:,0],D[:,1])\n",
    "plt.scatter(D_bar[:,0],D_bar[:,1],color='red')\n",
    "plt.scatter(projected_data[:,0],projected_data[:,1],color='green')\n",
    "plt.xlim([-10,10])\n",
    "plt.ylim([-10,10])\n",
    "plt.grid()"
   ]
  },
  {
   "cell_type": "code",
   "execution_count": 39,
   "id": "4b60996f",
   "metadata": {},
   "outputs": [],
   "source": [
    "# kernel   Matrix:\n",
    "#k(x_i,x_j)=x_i^T x_j\n",
    "\n",
    "def linear_kernel(x,y,c):\n",
    "    return c+np.dot(x,y)\n",
    "\n",
    "def poly_kernel(x,y,c,degree):\n",
    "    return (c+np.dot(x,y))**degree\n",
    "\n",
    "\n",
    "\n",
    "    "
   ]
  },
  {
   "cell_type": "code",
   "execution_count": null,
   "id": "35775a50",
   "metadata": {},
   "outputs": [],
   "source": [
    "np.dot(x,y)==x.T y\n",
    "np.outer(x,y)==x y.T"
   ]
  }
 ],
 "metadata": {
  "kernelspec": {
   "display_name": "Python 3 (ipykernel)",
   "language": "python",
   "name": "python3"
  },
  "language_info": {
   "codemirror_mode": {
    "name": "ipython",
    "version": 3
   },
   "file_extension": ".py",
   "mimetype": "text/x-python",
   "name": "python",
   "nbconvert_exporter": "python",
   "pygments_lexer": "ipython3",
   "version": "3.11.4"
  }
 },
 "nbformat": 4,
 "nbformat_minor": 5
}
