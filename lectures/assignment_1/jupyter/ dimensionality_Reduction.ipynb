{
 "cells": [
  {
   "cell_type": "code",
   "execution_count": 1,
   "id": "ddedf370",
   "metadata": {},
   "outputs": [],
   "source": [
    "import pandas as pd\n",
    "import numpy as np"
   ]
  },
  {
   "cell_type": "code",
   "execution_count": 6,
   "id": "5c5456fa",
   "metadata": {},
   "outputs": [],
   "source": [
    "df=pd.read_csv('colon.csv')"
   ]
  },
  {
   "cell_type": "code",
   "execution_count": 7,
   "id": "564f9e3c",
   "metadata": {},
   "outputs": [
    {
     "data": {
      "text/html": [
       "<div>\n",
       "<style scoped>\n",
       "    .dataframe tbody tr th:only-of-type {\n",
       "        vertical-align: middle;\n",
       "    }\n",
       "\n",
       "    .dataframe tbody tr th {\n",
       "        vertical-align: top;\n",
       "    }\n",
       "\n",
       "    .dataframe thead th {\n",
       "        text-align: right;\n",
       "    }\n",
       "</style>\n",
       "<table border=\"1\" class=\"dataframe\">\n",
       "  <thead>\n",
       "    <tr style=\"text-align: right;\">\n",
       "      <th></th>\n",
       "      <th>hsa-let-7a-1</th>\n",
       "      <th>hsa-let-7a-2</th>\n",
       "      <th>hsa-let-7a-3</th>\n",
       "      <th>hsa-let-7b</th>\n",
       "      <th>hsa-let-7c</th>\n",
       "      <th>hsa-let-7d</th>\n",
       "      <th>hsa-let-7e</th>\n",
       "      <th>hsa-let-7f-1</th>\n",
       "      <th>hsa-let-7f-2</th>\n",
       "      <th>hsa-let-7g</th>\n",
       "      <th>...</th>\n",
       "      <th>hsa-mir-942</th>\n",
       "      <th>hsa-mir-943</th>\n",
       "      <th>hsa-mir-944</th>\n",
       "      <th>hsa-mir-95</th>\n",
       "      <th>hsa-mir-9500</th>\n",
       "      <th>hsa-mir-96</th>\n",
       "      <th>hsa-mir-98</th>\n",
       "      <th>hsa-mir-99a</th>\n",
       "      <th>hsa-mir-99b</th>\n",
       "      <th>Label</th>\n",
       "    </tr>\n",
       "  </thead>\n",
       "  <tbody>\n",
       "    <tr>\n",
       "      <th>0</th>\n",
       "      <td>5785.164636</td>\n",
       "      <td>5723.093854</td>\n",
       "      <td>5783.766645</td>\n",
       "      <td>5779.013477</td>\n",
       "      <td>489.296704</td>\n",
       "      <td>324.054217</td>\n",
       "      <td>539.903964</td>\n",
       "      <td>3629.183557</td>\n",
       "      <td>3724.526515</td>\n",
       "      <td>304.482349</td>\n",
       "      <td>...</td>\n",
       "      <td>4.193972</td>\n",
       "      <td>0.0</td>\n",
       "      <td>0.559196</td>\n",
       "      <td>1.677589</td>\n",
       "      <td>0.0</td>\n",
       "      <td>5.871560</td>\n",
       "      <td>31.874185</td>\n",
       "      <td>78.287473</td>\n",
       "      <td>11948.625524</td>\n",
       "      <td>0</td>\n",
       "    </tr>\n",
       "    <tr>\n",
       "      <th>1</th>\n",
       "      <td>11098.460818</td>\n",
       "      <td>11036.758267</td>\n",
       "      <td>11115.828944</td>\n",
       "      <td>9275.036153</td>\n",
       "      <td>788.421493</td>\n",
       "      <td>570.862867</td>\n",
       "      <td>906.113397</td>\n",
       "      <td>6589.146933</td>\n",
       "      <td>6772.654892</td>\n",
       "      <td>873.662426</td>\n",
       "      <td>...</td>\n",
       "      <td>7.541423</td>\n",
       "      <td>0.0</td>\n",
       "      <td>0.000000</td>\n",
       "      <td>22.624269</td>\n",
       "      <td>0.0</td>\n",
       "      <td>31.993916</td>\n",
       "      <td>38.392699</td>\n",
       "      <td>289.544937</td>\n",
       "      <td>7432.643666</td>\n",
       "      <td>2</td>\n",
       "    </tr>\n",
       "    <tr>\n",
       "      <th>2</th>\n",
       "      <td>4584.125996</td>\n",
       "      <td>4693.036117</td>\n",
       "      <td>4637.873848</td>\n",
       "      <td>24842.822894</td>\n",
       "      <td>489.388335</td>\n",
       "      <td>636.487719</td>\n",
       "      <td>299.856437</td>\n",
       "      <td>983.019922</td>\n",
       "      <td>951.902745</td>\n",
       "      <td>623.757965</td>\n",
       "      <td>...</td>\n",
       "      <td>8.486503</td>\n",
       "      <td>0.0</td>\n",
       "      <td>0.000000</td>\n",
       "      <td>43.846932</td>\n",
       "      <td>0.0</td>\n",
       "      <td>18.387423</td>\n",
       "      <td>46.675766</td>\n",
       "      <td>246.108585</td>\n",
       "      <td>22397.295634</td>\n",
       "      <td>4</td>\n",
       "    </tr>\n",
       "    <tr>\n",
       "      <th>3</th>\n",
       "      <td>6807.476333</td>\n",
       "      <td>6720.276568</td>\n",
       "      <td>6762.758505</td>\n",
       "      <td>11207.304129</td>\n",
       "      <td>831.548347</td>\n",
       "      <td>536.207416</td>\n",
       "      <td>534.378050</td>\n",
       "      <td>3890.451077</td>\n",
       "      <td>3952.242985</td>\n",
       "      <td>581.331770</td>\n",
       "      <td>...</td>\n",
       "      <td>10.163143</td>\n",
       "      <td>0.0</td>\n",
       "      <td>0.000000</td>\n",
       "      <td>2.642417</td>\n",
       "      <td>0.0</td>\n",
       "      <td>9.756617</td>\n",
       "      <td>61.182120</td>\n",
       "      <td>198.587811</td>\n",
       "      <td>14206.447579</td>\n",
       "      <td>1</td>\n",
       "    </tr>\n",
       "    <tr>\n",
       "      <th>4</th>\n",
       "      <td>8531.078761</td>\n",
       "      <td>8584.934503</td>\n",
       "      <td>8664.659815</td>\n",
       "      <td>12816.725853</td>\n",
       "      <td>1286.893535</td>\n",
       "      <td>756.567343</td>\n",
       "      <td>1042.308506</td>\n",
       "      <td>3831.988900</td>\n",
       "      <td>4011.194469</td>\n",
       "      <td>881.446815</td>\n",
       "      <td>...</td>\n",
       "      <td>12.934785</td>\n",
       "      <td>0.0</td>\n",
       "      <td>2.822135</td>\n",
       "      <td>16.462454</td>\n",
       "      <td>0.0</td>\n",
       "      <td>13.640319</td>\n",
       "      <td>61.381435</td>\n",
       "      <td>360.057383</td>\n",
       "      <td>15172.502999</td>\n",
       "      <td>4</td>\n",
       "    </tr>\n",
       "  </tbody>\n",
       "</table>\n",
       "<p>5 rows × 1882 columns</p>\n",
       "</div>"
      ],
      "text/plain": [
       "   hsa-let-7a-1  hsa-let-7a-2  hsa-let-7a-3    hsa-let-7b   hsa-let-7c  \\\n",
       "0   5785.164636   5723.093854   5783.766645   5779.013477   489.296704   \n",
       "1  11098.460818  11036.758267  11115.828944   9275.036153   788.421493   \n",
       "2   4584.125996   4693.036117   4637.873848  24842.822894   489.388335   \n",
       "3   6807.476333   6720.276568   6762.758505  11207.304129   831.548347   \n",
       "4   8531.078761   8584.934503   8664.659815  12816.725853  1286.893535   \n",
       "\n",
       "   hsa-let-7d   hsa-let-7e  hsa-let-7f-1  hsa-let-7f-2  hsa-let-7g  ...  \\\n",
       "0  324.054217   539.903964   3629.183557   3724.526515  304.482349  ...   \n",
       "1  570.862867   906.113397   6589.146933   6772.654892  873.662426  ...   \n",
       "2  636.487719   299.856437    983.019922    951.902745  623.757965  ...   \n",
       "3  536.207416   534.378050   3890.451077   3952.242985  581.331770  ...   \n",
       "4  756.567343  1042.308506   3831.988900   4011.194469  881.446815  ...   \n",
       "\n",
       "   hsa-mir-942  hsa-mir-943  hsa-mir-944  hsa-mir-95  hsa-mir-9500  \\\n",
       "0     4.193972          0.0     0.559196    1.677589           0.0   \n",
       "1     7.541423          0.0     0.000000   22.624269           0.0   \n",
       "2     8.486503          0.0     0.000000   43.846932           0.0   \n",
       "3    10.163143          0.0     0.000000    2.642417           0.0   \n",
       "4    12.934785          0.0     2.822135   16.462454           0.0   \n",
       "\n",
       "   hsa-mir-96  hsa-mir-98  hsa-mir-99a   hsa-mir-99b  Label  \n",
       "0    5.871560   31.874185    78.287473  11948.625524      0  \n",
       "1   31.993916   38.392699   289.544937   7432.643666      2  \n",
       "2   18.387423   46.675766   246.108585  22397.295634      4  \n",
       "3    9.756617   61.182120   198.587811  14206.447579      1  \n",
       "4   13.640319   61.381435   360.057383  15172.502999      4  \n",
       "\n",
       "[5 rows x 1882 columns]"
      ]
     },
     "execution_count": 7,
     "metadata": {},
     "output_type": "execute_result"
    }
   ],
   "source": [
    "df.head()"
   ]
  },
  {
   "cell_type": "code",
   "execution_count": 8,
   "id": "71fc8a7e",
   "metadata": {},
   "outputs": [],
   "source": [
    "data=df.iloc[:,:-1].to_numpy()"
   ]
  },
  {
   "cell_type": "code",
   "execution_count": 9,
   "id": "a4e9bef9",
   "metadata": {},
   "outputs": [
    {
     "name": "stdout",
     "output_type": "stream",
     "text": [
      "(467, 1881)\n"
     ]
    }
   ],
   "source": [
    "print(data.shape)"
   ]
  },
  {
   "cell_type": "code",
   "execution_count": 10,
   "id": "b09676a2",
   "metadata": {},
   "outputs": [],
   "source": [
    "from sklearn.decomposition import PCA"
   ]
  },
  {
   "cell_type": "code",
   "execution_count": 11,
   "id": "f109feac",
   "metadata": {},
   "outputs": [],
   "source": [
    "pca = PCA(n_components=3)"
   ]
  },
  {
   "cell_type": "code",
   "execution_count": 12,
   "id": "5bcc1aad",
   "metadata": {},
   "outputs": [
    {
     "data": {
      "text/html": [
       "<style>#sk-container-id-1 {color: black;}#sk-container-id-1 pre{padding: 0;}#sk-container-id-1 div.sk-toggleable {background-color: white;}#sk-container-id-1 label.sk-toggleable__label {cursor: pointer;display: block;width: 100%;margin-bottom: 0;padding: 0.3em;box-sizing: border-box;text-align: center;}#sk-container-id-1 label.sk-toggleable__label-arrow:before {content: \"▸\";float: left;margin-right: 0.25em;color: #696969;}#sk-container-id-1 label.sk-toggleable__label-arrow:hover:before {color: black;}#sk-container-id-1 div.sk-estimator:hover label.sk-toggleable__label-arrow:before {color: black;}#sk-container-id-1 div.sk-toggleable__content {max-height: 0;max-width: 0;overflow: hidden;text-align: left;background-color: #f0f8ff;}#sk-container-id-1 div.sk-toggleable__content pre {margin: 0.2em;color: black;border-radius: 0.25em;background-color: #f0f8ff;}#sk-container-id-1 input.sk-toggleable__control:checked~div.sk-toggleable__content {max-height: 200px;max-width: 100%;overflow: auto;}#sk-container-id-1 input.sk-toggleable__control:checked~label.sk-toggleable__label-arrow:before {content: \"▾\";}#sk-container-id-1 div.sk-estimator input.sk-toggleable__control:checked~label.sk-toggleable__label {background-color: #d4ebff;}#sk-container-id-1 div.sk-label input.sk-toggleable__control:checked~label.sk-toggleable__label {background-color: #d4ebff;}#sk-container-id-1 input.sk-hidden--visually {border: 0;clip: rect(1px 1px 1px 1px);clip: rect(1px, 1px, 1px, 1px);height: 1px;margin: -1px;overflow: hidden;padding: 0;position: absolute;width: 1px;}#sk-container-id-1 div.sk-estimator {font-family: monospace;background-color: #f0f8ff;border: 1px dotted black;border-radius: 0.25em;box-sizing: border-box;margin-bottom: 0.5em;}#sk-container-id-1 div.sk-estimator:hover {background-color: #d4ebff;}#sk-container-id-1 div.sk-parallel-item::after {content: \"\";width: 100%;border-bottom: 1px solid gray;flex-grow: 1;}#sk-container-id-1 div.sk-label:hover label.sk-toggleable__label {background-color: #d4ebff;}#sk-container-id-1 div.sk-serial::before {content: \"\";position: absolute;border-left: 1px solid gray;box-sizing: border-box;top: 0;bottom: 0;left: 50%;z-index: 0;}#sk-container-id-1 div.sk-serial {display: flex;flex-direction: column;align-items: center;background-color: white;padding-right: 0.2em;padding-left: 0.2em;position: relative;}#sk-container-id-1 div.sk-item {position: relative;z-index: 1;}#sk-container-id-1 div.sk-parallel {display: flex;align-items: stretch;justify-content: center;background-color: white;position: relative;}#sk-container-id-1 div.sk-item::before, #sk-container-id-1 div.sk-parallel-item::before {content: \"\";position: absolute;border-left: 1px solid gray;box-sizing: border-box;top: 0;bottom: 0;left: 50%;z-index: -1;}#sk-container-id-1 div.sk-parallel-item {display: flex;flex-direction: column;z-index: 1;position: relative;background-color: white;}#sk-container-id-1 div.sk-parallel-item:first-child::after {align-self: flex-end;width: 50%;}#sk-container-id-1 div.sk-parallel-item:last-child::after {align-self: flex-start;width: 50%;}#sk-container-id-1 div.sk-parallel-item:only-child::after {width: 0;}#sk-container-id-1 div.sk-dashed-wrapped {border: 1px dashed gray;margin: 0 0.4em 0.5em 0.4em;box-sizing: border-box;padding-bottom: 0.4em;background-color: white;}#sk-container-id-1 div.sk-label label {font-family: monospace;font-weight: bold;display: inline-block;line-height: 1.2em;}#sk-container-id-1 div.sk-label-container {text-align: center;}#sk-container-id-1 div.sk-container {/* jupyter's `normalize.less` sets `[hidden] { display: none; }` but bootstrap.min.css set `[hidden] { display: none !important; }` so we also need the `!important` here to be able to override the default hidden behavior on the sphinx rendered scikit-learn.org. See: https://github.com/scikit-learn/scikit-learn/issues/21755 */display: inline-block !important;position: relative;}#sk-container-id-1 div.sk-text-repr-fallback {display: none;}</style><div id=\"sk-container-id-1\" class=\"sk-top-container\"><div class=\"sk-text-repr-fallback\"><pre>PCA(n_components=3)</pre><b>In a Jupyter environment, please rerun this cell to show the HTML representation or trust the notebook. <br />On GitHub, the HTML representation is unable to render, please try loading this page with nbviewer.org.</b></div><div class=\"sk-container\" hidden><div class=\"sk-item\"><div class=\"sk-estimator sk-toggleable\"><input class=\"sk-toggleable__control sk-hidden--visually\" id=\"sk-estimator-id-1\" type=\"checkbox\" checked><label for=\"sk-estimator-id-1\" class=\"sk-toggleable__label sk-toggleable__label-arrow\">PCA</label><div class=\"sk-toggleable__content\"><pre>PCA(n_components=3)</pre></div></div></div></div></div>"
      ],
      "text/plain": [
       "PCA(n_components=3)"
      ]
     },
     "execution_count": 12,
     "metadata": {},
     "output_type": "execute_result"
    }
   ],
   "source": [
    "pca.fit(data)"
   ]
  },
  {
   "cell_type": "code",
   "execution_count": 13,
   "id": "56bd7f95",
   "metadata": {},
   "outputs": [],
   "source": [
    "red_data=pca.transform(data)"
   ]
  },
  {
   "cell_type": "code",
   "execution_count": 14,
   "id": "4beb3a97",
   "metadata": {},
   "outputs": [
    {
     "name": "stdout",
     "output_type": "stream",
     "text": [
      "(467, 3)\n"
     ]
    }
   ],
   "source": [
    "print(red_data.shape)"
   ]
  },
  {
   "cell_type": "code",
   "execution_count": 2,
   "id": "5d05d7c3",
   "metadata": {},
   "outputs": [],
   "source": [
    "def my_pca(D,k):\n",
    "    m1=np.mean(D,axis=0)\n",
    "    D_centered=D-m1\n",
    "    cov_matrix=np.cov(D_centered,rowvar=False)\n",
    "    eigen_values,eigen_vectors=np.linalg.eigh(cov_matrix)\n",
    "    idx=np.argsort(eigen_values)\n",
    "    eigen_values=eigen_values[idx]\n",
    "    eigen_vectors=eigen_vectors[:,idx]\n",
    "    eigen_vectors_reduced=eigen_vectors[:,:k]\n",
    "    projected_data=np.dot(D_centered, eigen_vectors_reduced)\n",
    "    return projected_data, eigen_vectors_reduced,m1\n",
    "    \n",
    "    \n",
    "    \n",
    "    \n",
    "    "
   ]
  },
  {
   "cell_type": "code",
   "execution_count": 5,
   "id": "84316f0b",
   "metadata": {},
   "outputs": [
    {
     "name": "stdout",
     "output_type": "stream",
     "text": [
      "[0.98599882 0.9958588  0.9998028  1.        ]\n"
     ]
    }
   ],
   "source": [
    "x=np.array([10,0.1,0.04,0.002])\n",
    "tot_var=np.sum(x)\n",
    "y=np.cumsum(x)/tot_var #[1,4,9,16,31]\n",
    "print(y)"
   ]
  },
  {
   "cell_type": "code",
   "execution_count": null,
   "id": "8010005d",
   "metadata": {},
   "outputs": [],
   "source": []
  }
 ],
 "metadata": {
  "kernelspec": {
   "display_name": "Python 3 (ipykernel)",
   "language": "python",
   "name": "python3"
  },
  "language_info": {
   "codemirror_mode": {
    "name": "ipython",
    "version": 3
   },
   "file_extension": ".py",
   "mimetype": "text/x-python",
   "name": "python",
   "nbconvert_exporter": "python",
   "pygments_lexer": "ipython3",
   "version": "3.11.4"
  }
 },
 "nbformat": 4,
 "nbformat_minor": 5
}
