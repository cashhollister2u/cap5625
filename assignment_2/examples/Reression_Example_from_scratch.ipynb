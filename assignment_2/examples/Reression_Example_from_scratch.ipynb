{
 "cells": [
  {
   "cell_type": "code",
   "execution_count": 28,
   "id": "984df6ce",
   "metadata": {},
   "outputs": [],
   "source": [
    "import pandas as pd\n",
    "import numpy as np\n",
    "from numpy.linalg import qr, norm, solve\n",
    "import matplotlib.pyplot as plt\n",
    "from sklearn.model_selection import train_test_split"
   ]
  },
  {
   "cell_type": "code",
   "execution_count": 29,
   "id": "1e4fa697",
   "metadata": {},
   "outputs": [
    {
     "data": {
      "text/html": [
       "<div>\n",
       "<style scoped>\n",
       "    .dataframe tbody tr th:only-of-type {\n",
       "        vertical-align: middle;\n",
       "    }\n",
       "\n",
       "    .dataframe tbody tr th {\n",
       "        vertical-align: top;\n",
       "    }\n",
       "\n",
       "    .dataframe thead th {\n",
       "        text-align: right;\n",
       "    }\n",
       "</style>\n",
       "<table border=\"1\" class=\"dataframe\">\n",
       "  <thead>\n",
       "    <tr style=\"text-align: right;\">\n",
       "      <th></th>\n",
       "      <th>Unnamed: 0</th>\n",
       "      <th>TV</th>\n",
       "      <th>Radio</th>\n",
       "      <th>Newspaper</th>\n",
       "      <th>Sales</th>\n",
       "    </tr>\n",
       "  </thead>\n",
       "  <tbody>\n",
       "    <tr>\n",
       "      <th>0</th>\n",
       "      <td>1</td>\n",
       "      <td>230.1</td>\n",
       "      <td>37.8</td>\n",
       "      <td>69.2</td>\n",
       "      <td>22.1</td>\n",
       "    </tr>\n",
       "    <tr>\n",
       "      <th>1</th>\n",
       "      <td>2</td>\n",
       "      <td>44.5</td>\n",
       "      <td>39.3</td>\n",
       "      <td>45.1</td>\n",
       "      <td>10.4</td>\n",
       "    </tr>\n",
       "    <tr>\n",
       "      <th>2</th>\n",
       "      <td>3</td>\n",
       "      <td>17.2</td>\n",
       "      <td>45.9</td>\n",
       "      <td>69.3</td>\n",
       "      <td>9.3</td>\n",
       "    </tr>\n",
       "    <tr>\n",
       "      <th>3</th>\n",
       "      <td>4</td>\n",
       "      <td>151.5</td>\n",
       "      <td>41.3</td>\n",
       "      <td>58.5</td>\n",
       "      <td>18.5</td>\n",
       "    </tr>\n",
       "    <tr>\n",
       "      <th>4</th>\n",
       "      <td>5</td>\n",
       "      <td>180.8</td>\n",
       "      <td>10.8</td>\n",
       "      <td>58.4</td>\n",
       "      <td>12.9</td>\n",
       "    </tr>\n",
       "  </tbody>\n",
       "</table>\n",
       "</div>"
      ],
      "text/plain": [
       "   Unnamed: 0     TV  Radio  Newspaper  Sales\n",
       "0           1  230.1   37.8       69.2   22.1\n",
       "1           2   44.5   39.3       45.1   10.4\n",
       "2           3   17.2   45.9       69.3    9.3\n",
       "3           4  151.5   41.3       58.5   18.5\n",
       "4           5  180.8   10.8       58.4   12.9"
      ]
     },
     "execution_count": 29,
     "metadata": {},
     "output_type": "execute_result"
    }
   ],
   "source": [
    "df = pd.read_csv(\"Advertising.csv\")\n",
    "df.head()"
   ]
  },
  {
   "cell_type": "code",
   "execution_count": 30,
   "id": "4b7a3db9",
   "metadata": {},
   "outputs": [],
   "source": [
    "# Prepare data\n",
    "D = df[['TV', 'Radio', 'Newspaper']].values\n",
    "y = df['Sales'].values\n"
   ]
  },
  {
   "cell_type": "code",
   "execution_count": 31,
   "id": "7752a974",
   "metadata": {},
   "outputs": [],
   "source": [
    "X_train,X_test,y_train,y_test=train_test_split(D,y,test_size=0.2)"
   ]
  },
  {
   "cell_type": "code",
   "execution_count": 32,
   "id": "745f4f86",
   "metadata": {},
   "outputs": [],
   "source": [
    "n_samples, n_features = X_train.shape"
   ]
  },
  {
   "cell_type": "code",
   "execution_count": 33,
   "id": "a46bf945",
   "metadata": {},
   "outputs": [],
   "source": [
    "# Augment data (add bias term)\n",
    "D_aug = np.hstack((np.ones((n_samples, 1)), X_train))"
   ]
  },
  {
   "cell_type": "code",
   "execution_count": 38,
   "id": "96974f1e",
   "metadata": {},
   "outputs": [],
   "source": [
    "# Multiple Regression using QR Factorization , you need to create function for testing, that will accept test data and weights and return y_pred\n",
    "def qr_regression(D_aug, y):\n",
    "    Q, R = np.linalg.qr(D_aug)\n",
    "    w_qr = solve(R, Q.T @ y)\n",
    "    y_pred_qr = D_aug @ w_qr\n",
    "    return w_qr, y_pred_qr\n"
   ]
  },
  {
   "cell_type": "code",
   "execution_count": 39,
   "id": "0eba1ac4",
   "metadata": {},
   "outputs": [],
   "source": [
    "#you need to create function for testing, that will accept test data and weights and return y_pred\n",
    "def sgd_regression(D_aug, y, eta=1e-6, epsilon=1e-5, max_epochs=10000):\n",
    "    w = np.random.randn(D_aug.shape[1])\n",
    "    for epoch in range(max_epochs):\n",
    "        w_prev = w.copy()\n",
    "        indices = np.random.permutation(len(y))\n",
    "        for i in indices:\n",
    "            x_i = D_aug[i]\n",
    "            y_i = y[i]\n",
    "            grad = -(y_i - np.dot(x_i, w)) * x_i\n",
    "            w -= eta * grad\n",
    "        if norm(w - w_prev) <= epsilon:\n",
    "            break\n",
    "    y_pred_sgd = D_aug @ w\n",
    "    return w, y_pred_sgd"
   ]
  },
  {
   "cell_type": "code",
   "execution_count": 42,
   "id": "84ac3b68",
   "metadata": {},
   "outputs": [],
   "source": [
    "# 3. Ridge Regression using Stochastic Gradient Descent,you need to create function for testing, that will accept test data and weights and return y_pred\n",
    "def ridge_sgd_regression(D_aug, y, eta=1e-6, alpha=0.01, epsilon=1e-5, max_epochs=10000):\n",
    "    w = np.random.randn(D_aug.shape[1])\n",
    "    for epoch in range(max_epochs):\n",
    "        w_prev = w.copy()\n",
    "        indices = np.random.permutation(len(y))\n",
    "        for i in indices:\n",
    "            x_i = D_aug[i]\n",
    "            y_i = y[i]\n",
    "            grad = -(y_i - np.dot(x_i, w)) * x_i + alpha * w\n",
    "            w -= eta * grad\n",
    "        if norm(w - w_prev) <= epsilon:\n",
    "            break\n",
    "    y_pred_ridge = D_aug @ w\n",
    "    return w, y_pred_ridge"
   ]
  },
  {
   "cell_type": "code",
   "execution_count": 43,
   "id": "7099f6ee",
   "metadata": {},
   "outputs": [],
   "source": [
    "# Run all methods\n",
    "w_qr, y_qr = qr_regression(X_train, y_train)\n",
    "w_sgd, y_sgd = sgd_regression(X_train, y_train)\n",
    "w_ridge, y_ridge = ridge_sgd_regression(X_train, y_train)"
   ]
  },
  {
   "cell_type": "code",
   "execution_count": 44,
   "id": "bb632f19",
   "metadata": {},
   "outputs": [],
   "source": [
    "#you need to create function for testing, that will accept test data and weights and return y_pred"
   ]
  },
  {
   "cell_type": "code",
   "execution_count": null,
   "id": "14e242ac",
   "metadata": {},
   "outputs": [],
   "source": []
  }
 ],
 "metadata": {
  "kernelspec": {
   "display_name": "Python 3 (ipykernel)",
   "language": "python",
   "name": "python3"
  },
  "language_info": {
   "codemirror_mode": {
    "name": "ipython",
    "version": 3
   },
   "file_extension": ".py",
   "mimetype": "text/x-python",
   "name": "python",
   "nbconvert_exporter": "python",
   "pygments_lexer": "ipython3",
   "version": "3.11.4"
  }
 },
 "nbformat": 4,
 "nbformat_minor": 5
}
