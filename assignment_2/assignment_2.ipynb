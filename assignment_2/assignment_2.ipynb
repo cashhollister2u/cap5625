{
 "cells": [
  {
   "cell_type": "markdown",
   "id": "06e3ddad",
   "metadata": {},
   "source": [
    "# Assignment 2"
   ]
  },
  {
   "cell_type": "markdown",
   "id": "7cc376ff",
   "metadata": {},
   "source": [
    "### Objective:\n",
    "This assignment aims to equip students with hands-on experience in predictive modeling using real-world clinical data related to heart failure. The students will implement regression and classification techniques to predict the severity of a condition and patient survival outcomes."
   ]
  },
  {
   "cell_type": "markdown",
   "id": "89d8cc93",
   "metadata": {},
   "source": [
    "### Dataset:\n",
    "The dataset contains records of 299 patients who suffered heart failure, with 13 clinical features and two target variables: DEATH_EVENT (binary: 0 or 1) and Severity (numerical). You can download the data from the course files section."
   ]
  },
  {
   "cell_type": "markdown",
   "id": "0d9d0cc8",
   "metadata": {},
   "source": [
    "### Reference:\n",
    "Davide Chicco & Giuseppe Jurman (2020): \"Machine learning can predict survival of patients with heart failure from serum creatinine and ejection fraction alone\", BMC Medical Informatics and Decision Making, 20:16."
   ]
  },
  {
   "cell_type": "markdown",
   "id": "847b8606",
   "metadata": {},
   "source": [
    "## Task 1: Regression Analysis (Predicting Severity)"
   ]
  },
  {
   "cell_type": "markdown",
   "id": "c8e9da7c",
   "metadata": {},
   "source": [
    "### 1.1 Data Preparation\n",
    "- Split the dataset into training (70%) and testing (30%) sets.\n",
    "- Formulate: Describe the splitting mathematically"
   ]
  },
  {
   "cell_type": "code",
   "execution_count": 121,
   "id": "9f9a259f",
   "metadata": {},
   "outputs": [],
   "source": [
    "import pandas as pd"
   ]
  },
  {
   "cell_type": "code",
   "execution_count": 122,
   "id": "5b0c18a6",
   "metadata": {},
   "outputs": [
    {
     "data": {
      "text/html": [
       "<div>\n",
       "<style scoped>\n",
       "    .dataframe tbody tr th:only-of-type {\n",
       "        vertical-align: middle;\n",
       "    }\n",
       "\n",
       "    .dataframe tbody tr th {\n",
       "        vertical-align: top;\n",
       "    }\n",
       "\n",
       "    .dataframe thead th {\n",
       "        text-align: right;\n",
       "    }\n",
       "</style>\n",
       "<table border=\"1\" class=\"dataframe\">\n",
       "  <thead>\n",
       "    <tr style=\"text-align: right;\">\n",
       "      <th></th>\n",
       "      <th>age</th>\n",
       "      <th>anaemia</th>\n",
       "      <th>creatinine_phosphokinase</th>\n",
       "      <th>diabetes</th>\n",
       "      <th>ejection_fraction</th>\n",
       "      <th>high_blood_pressure</th>\n",
       "      <th>platelets</th>\n",
       "      <th>serum_creatinine</th>\n",
       "      <th>serum_sodium</th>\n",
       "      <th>sex</th>\n",
       "      <th>smoking</th>\n",
       "      <th>time</th>\n",
       "      <th>DEATH_EVENT</th>\n",
       "      <th>Severity</th>\n",
       "    </tr>\n",
       "  </thead>\n",
       "  <tbody>\n",
       "    <tr>\n",
       "      <th>0</th>\n",
       "      <td>75.0</td>\n",
       "      <td>0</td>\n",
       "      <td>582</td>\n",
       "      <td>0</td>\n",
       "      <td>20</td>\n",
       "      <td>1</td>\n",
       "      <td>265000.00</td>\n",
       "      <td>1.9</td>\n",
       "      <td>130</td>\n",
       "      <td>1</td>\n",
       "      <td>0</td>\n",
       "      <td>4</td>\n",
       "      <td>1</td>\n",
       "      <td>6.6</td>\n",
       "    </tr>\n",
       "    <tr>\n",
       "      <th>1</th>\n",
       "      <td>55.0</td>\n",
       "      <td>0</td>\n",
       "      <td>7861</td>\n",
       "      <td>0</td>\n",
       "      <td>38</td>\n",
       "      <td>0</td>\n",
       "      <td>263358.03</td>\n",
       "      <td>1.1</td>\n",
       "      <td>136</td>\n",
       "      <td>1</td>\n",
       "      <td>0</td>\n",
       "      <td>6</td>\n",
       "      <td>1</td>\n",
       "      <td>2.0</td>\n",
       "    </tr>\n",
       "    <tr>\n",
       "      <th>2</th>\n",
       "      <td>65.0</td>\n",
       "      <td>0</td>\n",
       "      <td>146</td>\n",
       "      <td>0</td>\n",
       "      <td>20</td>\n",
       "      <td>0</td>\n",
       "      <td>162000.00</td>\n",
       "      <td>1.3</td>\n",
       "      <td>129</td>\n",
       "      <td>1</td>\n",
       "      <td>1</td>\n",
       "      <td>7</td>\n",
       "      <td>1</td>\n",
       "      <td>6.4</td>\n",
       "    </tr>\n",
       "    <tr>\n",
       "      <th>3</th>\n",
       "      <td>50.0</td>\n",
       "      <td>1</td>\n",
       "      <td>111</td>\n",
       "      <td>0</td>\n",
       "      <td>20</td>\n",
       "      <td>0</td>\n",
       "      <td>210000.00</td>\n",
       "      <td>1.9</td>\n",
       "      <td>137</td>\n",
       "      <td>1</td>\n",
       "      <td>0</td>\n",
       "      <td>7</td>\n",
       "      <td>1</td>\n",
       "      <td>4.6</td>\n",
       "    </tr>\n",
       "    <tr>\n",
       "      <th>4</th>\n",
       "      <td>65.0</td>\n",
       "      <td>1</td>\n",
       "      <td>160</td>\n",
       "      <td>1</td>\n",
       "      <td>20</td>\n",
       "      <td>0</td>\n",
       "      <td>327000.00</td>\n",
       "      <td>2.7</td>\n",
       "      <td>116</td>\n",
       "      <td>0</td>\n",
       "      <td>0</td>\n",
       "      <td>8</td>\n",
       "      <td>1</td>\n",
       "      <td>8.8</td>\n",
       "    </tr>\n",
       "  </tbody>\n",
       "</table>\n",
       "</div>"
      ],
      "text/plain": [
       "    age  anaemia  creatinine_phosphokinase  diabetes  ejection_fraction  \\\n",
       "0  75.0        0                       582         0                 20   \n",
       "1  55.0        0                      7861         0                 38   \n",
       "2  65.0        0                       146         0                 20   \n",
       "3  50.0        1                       111         0                 20   \n",
       "4  65.0        1                       160         1                 20   \n",
       "\n",
       "   high_blood_pressure  platelets  serum_creatinine  serum_sodium  sex  \\\n",
       "0                    1  265000.00               1.9           130    1   \n",
       "1                    0  263358.03               1.1           136    1   \n",
       "2                    0  162000.00               1.3           129    1   \n",
       "3                    0  210000.00               1.9           137    1   \n",
       "4                    0  327000.00               2.7           116    0   \n",
       "\n",
       "   smoking  time  DEATH_EVENT  Severity  \n",
       "0        0     4            1       6.6  \n",
       "1        0     6            1       2.0  \n",
       "2        1     7            1       6.4  \n",
       "3        0     7            1       4.6  \n",
       "4        0     8            1       8.8  "
      ]
     },
     "execution_count": 122,
     "metadata": {},
     "output_type": "execute_result"
    }
   ],
   "source": [
    "df = pd.read_csv('heart_failure_clinical_records_with_severity (3).csv')\n",
    "df.head()"
   ]
  },
  {
   "cell_type": "code",
   "execution_count": 123,
   "id": "3248edd2",
   "metadata": {},
   "outputs": [
    {
     "data": {
      "text/html": [
       "<div>\n",
       "<style scoped>\n",
       "    .dataframe tbody tr th:only-of-type {\n",
       "        vertical-align: middle;\n",
       "    }\n",
       "\n",
       "    .dataframe tbody tr th {\n",
       "        vertical-align: top;\n",
       "    }\n",
       "\n",
       "    .dataframe thead th {\n",
       "        text-align: right;\n",
       "    }\n",
       "</style>\n",
       "<table border=\"1\" class=\"dataframe\">\n",
       "  <thead>\n",
       "    <tr style=\"text-align: right;\">\n",
       "      <th></th>\n",
       "      <th>age</th>\n",
       "      <th>anaemia</th>\n",
       "      <th>creatinine_phosphokinase</th>\n",
       "      <th>diabetes</th>\n",
       "      <th>ejection_fraction</th>\n",
       "      <th>high_blood_pressure</th>\n",
       "      <th>platelets</th>\n",
       "      <th>serum_creatinine</th>\n",
       "      <th>serum_sodium</th>\n",
       "      <th>sex</th>\n",
       "      <th>smoking</th>\n",
       "      <th>time</th>\n",
       "    </tr>\n",
       "  </thead>\n",
       "  <tbody>\n",
       "    <tr>\n",
       "      <th>0</th>\n",
       "      <td>75.0</td>\n",
       "      <td>0</td>\n",
       "      <td>582</td>\n",
       "      <td>0</td>\n",
       "      <td>20</td>\n",
       "      <td>1</td>\n",
       "      <td>265000.00</td>\n",
       "      <td>1.9</td>\n",
       "      <td>130</td>\n",
       "      <td>1</td>\n",
       "      <td>0</td>\n",
       "      <td>4</td>\n",
       "    </tr>\n",
       "    <tr>\n",
       "      <th>1</th>\n",
       "      <td>55.0</td>\n",
       "      <td>0</td>\n",
       "      <td>7861</td>\n",
       "      <td>0</td>\n",
       "      <td>38</td>\n",
       "      <td>0</td>\n",
       "      <td>263358.03</td>\n",
       "      <td>1.1</td>\n",
       "      <td>136</td>\n",
       "      <td>1</td>\n",
       "      <td>0</td>\n",
       "      <td>6</td>\n",
       "    </tr>\n",
       "    <tr>\n",
       "      <th>2</th>\n",
       "      <td>65.0</td>\n",
       "      <td>0</td>\n",
       "      <td>146</td>\n",
       "      <td>0</td>\n",
       "      <td>20</td>\n",
       "      <td>0</td>\n",
       "      <td>162000.00</td>\n",
       "      <td>1.3</td>\n",
       "      <td>129</td>\n",
       "      <td>1</td>\n",
       "      <td>1</td>\n",
       "      <td>7</td>\n",
       "    </tr>\n",
       "    <tr>\n",
       "      <th>3</th>\n",
       "      <td>50.0</td>\n",
       "      <td>1</td>\n",
       "      <td>111</td>\n",
       "      <td>0</td>\n",
       "      <td>20</td>\n",
       "      <td>0</td>\n",
       "      <td>210000.00</td>\n",
       "      <td>1.9</td>\n",
       "      <td>137</td>\n",
       "      <td>1</td>\n",
       "      <td>0</td>\n",
       "      <td>7</td>\n",
       "    </tr>\n",
       "    <tr>\n",
       "      <th>4</th>\n",
       "      <td>65.0</td>\n",
       "      <td>1</td>\n",
       "      <td>160</td>\n",
       "      <td>1</td>\n",
       "      <td>20</td>\n",
       "      <td>0</td>\n",
       "      <td>327000.00</td>\n",
       "      <td>2.7</td>\n",
       "      <td>116</td>\n",
       "      <td>0</td>\n",
       "      <td>0</td>\n",
       "      <td>8</td>\n",
       "    </tr>\n",
       "  </tbody>\n",
       "</table>\n",
       "</div>"
      ],
      "text/plain": [
       "    age  anaemia  creatinine_phosphokinase  diabetes  ejection_fraction  \\\n",
       "0  75.0        0                       582         0                 20   \n",
       "1  55.0        0                      7861         0                 38   \n",
       "2  65.0        0                       146         0                 20   \n",
       "3  50.0        1                       111         0                 20   \n",
       "4  65.0        1                       160         1                 20   \n",
       "\n",
       "   high_blood_pressure  platelets  serum_creatinine  serum_sodium  sex  \\\n",
       "0                    1  265000.00               1.9           130    1   \n",
       "1                    0  263358.03               1.1           136    1   \n",
       "2                    0  162000.00               1.3           129    1   \n",
       "3                    0  210000.00               1.9           137    1   \n",
       "4                    0  327000.00               2.7           116    0   \n",
       "\n",
       "   smoking  time  \n",
       "0        0     4  \n",
       "1        0     6  \n",
       "2        1     7  \n",
       "3        0     7  \n",
       "4        0     8  "
      ]
     },
     "execution_count": 123,
     "metadata": {},
     "output_type": "execute_result"
    }
   ],
   "source": [
    "data = df.iloc[:,:-2]\n",
    "data.head()\n"
   ]
  },
  {
   "cell_type": "code",
   "execution_count": 124,
   "id": "6e7b6411",
   "metadata": {},
   "outputs": [
    {
     "data": {
      "text/plain": [
       "0    6.6\n",
       "1    2.0\n",
       "2    6.4\n",
       "3    4.6\n",
       "4    8.8\n",
       "Name: Severity, dtype: float64"
      ]
     },
     "execution_count": 124,
     "metadata": {},
     "output_type": "execute_result"
    }
   ],
   "source": [
    "Y=df.iloc[:,-1]\n",
    "Y.head()"
   ]
  },
  {
   "cell_type": "code",
   "execution_count": 125,
   "id": "0d412ef3",
   "metadata": {},
   "outputs": [],
   "source": [
    "from sklearn.model_selection import train_test_split\n",
    "# Split the dataset into training (70%) and testing (30%) sets\n",
    "x_train, x_test, y_train, y_test = train_test_split(data, Y, test_size=0.3)"
   ]
  },
  {
   "cell_type": "markdown",
   "id": "531faa75",
   "metadata": {},
   "source": [
    "### 1.2 Linear Regression\n",
    "- Train a Linear Regression model to predict Severity using all available clinical features except DEATH_EVENT.\n",
    "- Formulate: Write the regression model. Derive the least squares solution. "
   ]
  },
  {
   "cell_type": "code",
   "execution_count": 126,
   "id": "c26f8783",
   "metadata": {},
   "outputs": [
    {
     "name": "stdout",
     "output_type": "stream",
     "text": [
      "MSE [Linear]:  0.7146626577226933 \n",
      "\n"
     ]
    }
   ],
   "source": [
    "from sklearn.linear_model import LinearRegression\n",
    "from sklearn.metrics import mean_squared_error, r2_score\n",
    "\n",
    "# Train a Linear Regression model to predict Severity using all available clinical features except DEATH_EVENT\n",
    "L = LinearRegression()\n",
    "L.fit(x_train, y_train) # training \n",
    "y_pred_L = L.predict(x_test) \n",
    "print(\"MSE [Linear]: \", mean_squared_error(y_test, y_pred_L), \"\\n\")"
   ]
  },
  {
   "cell_type": "markdown",
   "id": "2142091b",
   "metadata": {},
   "source": [
    "- Formulate: Write the regression model. Derive the least squares solution. \n",
    "    - todo***"
   ]
  },
  {
   "cell_type": "markdown",
   "id": "9479d01d",
   "metadata": {},
   "source": [
    "### 1.3 Ridge Regression\n",
    "- Train a Ridge Regression model with regularization.\n",
    "- Formulate: Derive the closed-form solution"
   ]
  },
  {
   "cell_type": "code",
   "execution_count": 127,
   "id": "2da23531",
   "metadata": {},
   "outputs": [
    {
     "name": "stdout",
     "output_type": "stream",
     "text": [
      "MSE [Ridge]:  0.7169162601473181 \n",
      "\n"
     ]
    }
   ],
   "source": [
    "from sklearn.linear_model import Ridge\n",
    "\n",
    "R = Ridge(alpha=0.5)\n",
    "R.fit(x_train, y_train) # training \n",
    "y_pred_R = R.predict(x_test) \n",
    "print(\"MSE [Ridge]: \", mean_squared_error(y_test, y_pred_R), \"\\n\")"
   ]
  },
  {
   "cell_type": "markdown",
   "id": "6cfda5b3",
   "metadata": {},
   "source": [
    "- Formulate: Write the regression model. Derive the least squares solution. \n",
    "    - todo***"
   ]
  },
  {
   "cell_type": "markdown",
   "id": "50864034",
   "metadata": {},
   "source": [
    "### 1.4 Lasso Regression\n",
    "- Train a Lasso Regression model and identify the most important features.\n",
    "- Formulate"
   ]
  },
  {
   "cell_type": "code",
   "execution_count": 128,
   "id": "a99ff32c",
   "metadata": {},
   "outputs": [
    {
     "name": "stdout",
     "output_type": "stream",
     "text": [
      "MSE [Lasso]:  1.2634285879433556 \n",
      "\n",
      "age: 0.0443524006575267\n",
      "anaemia: 0.0\n",
      "creatinine_phosphokinase: -0.0001368905019204772\n",
      "diabetes: 0.0\n",
      "ejection_fraction: -0.06923999414332471\n",
      "high_blood_pressure: 0.0\n",
      "platelets: 4.484416825801935e-07\n",
      "serum_creatinine: 0.0\n",
      "serum_sodium: -0.10262036736432031\n",
      "sex: -0.0\n",
      "smoking: 0.0\n",
      "time: -0.005368244923153997\n"
     ]
    }
   ],
   "source": [
    "from sklearn.linear_model import Lasso\n",
    "\n",
    "L1 = Lasso()\n",
    "L1.fit(x_train, y_train) # training \n",
    "y_pred_L1 = L1.predict(x_test) \n",
    "print(\"MSE [Lasso]: \", mean_squared_error(y_test, y_pred_L1), \"\\n\")\n",
    "\n",
    "# Imporant for feature selection\n",
    "for col, coef in zip(data.columns, L1.coef_):\n",
    "    print(f\"{col}: {coef}\")"
   ]
  },
  {
   "cell_type": "markdown",
   "id": "70505680",
   "metadata": {},
   "source": [
    "- Identify the most important features:\n",
    "    - age\n",
    "    - creatinine_phosphokinase\n",
    "    - ejection_fraction\n",
    "    - serum_sodium\n",
    "    - time\n",
    "\n",
    "- The above features have the most significant impact on the predictions made. All other features either have a coef value of 0 or close to 0 relative to the important features. "
   ]
  },
  {
   "cell_type": "markdown",
   "id": "a9f639de",
   "metadata": {},
   "source": [
    "- Formulate: Write the regression model. Derive the least squares solution. \n",
    "    - todo***"
   ]
  },
  {
   "cell_type": "markdown",
   "id": "02b707c5",
   "metadata": {},
   "source": [
    "### 1.5 Kernel Regression\n",
    "- Apply Kernel Regression with three kernels:\n",
    "    - Linear\n",
    "    - Polynomial\n",
    "    - Radial Basis Function (RBF)\n",
    "- Formulate: Derive the kernel regression estimator\n"
   ]
  },
  {
   "cell_type": "code",
   "execution_count": 129,
   "id": "b9f073b8",
   "metadata": {},
   "outputs": [
    {
     "name": "stdout",
     "output_type": "stream",
     "text": [
      "MSE [kernel ridge linear]:  0.9044423599846368 \n",
      "\n"
     ]
    }
   ],
   "source": [
    "from sklearn.kernel_ridge import KernelRidge\n",
    "\n",
    "KL = KernelRidge(kernel='linear')\n",
    "KL.fit(x_train, y_train) # training \n",
    "y_pred_KL = KL.predict(x_test) \n",
    "print(\"MSE [kernel ridge linear]: \", mean_squared_error(y_test, y_pred_KL), \"\\n\")"
   ]
  },
  {
   "cell_type": "code",
   "execution_count": 130,
   "id": "3e62184b",
   "metadata": {},
   "outputs": [
    {
     "name": "stdout",
     "output_type": "stream",
     "text": [
      "MSE [kernel ridge poly]:  0.8741161686888543 \n",
      "\n"
     ]
    }
   ],
   "source": [
    "KP = KernelRidge(kernel='poly', degree=1)\n",
    "KP.fit(x_train, y_train) # training \n",
    "y_pred_KP = KP.predict(x_test) \n",
    "print(\"MSE [kernel ridge poly]: \", mean_squared_error(y_test, y_pred_KP), \"\\n\")"
   ]
  },
  {
   "cell_type": "code",
   "execution_count": 131,
   "id": "70252cab",
   "metadata": {},
   "outputs": [
    {
     "name": "stdout",
     "output_type": "stream",
     "text": [
      "MSE [kernel ridge rbf]:  11.833777775565697 \n",
      "\n"
     ]
    }
   ],
   "source": [
    "KR = KernelRidge(kernel='rbf', gamma=0.1)\n",
    "KR.fit(x_train, y_train) # training \n",
    "y_pred_KR = KR.predict(x_test) \n",
    "print(\"MSE [kernel ridge rbf]: \", mean_squared_error(y_test, y_pred_KR), \"\\n\")"
   ]
  },
  {
   "cell_type": "markdown",
   "id": "a417a870",
   "metadata": {},
   "source": [
    "- Formulate: Write the regression model. Derive the least squares solution. \n",
    "    - todo***"
   ]
  },
  {
   "cell_type": "markdown",
   "id": "c3884737",
   "metadata": {},
   "source": [
    "### 1.6 Evaluation\n",
    "- Evaluate all models using:\n",
    "    - Mean Squared Error (MSE)\n",
    "    - R-squared "
   ]
  },
  {
   "cell_type": "code",
   "execution_count": 132,
   "id": "37c4b451",
   "metadata": {},
   "outputs": [
    {
     "name": "stdout",
     "output_type": "stream",
     "text": [
      "Mean Squared Error:\n",
      "MSE [Linear]:  0.7146626577226933\n",
      "MSE [Ridge]:  0.7169162601473181\n",
      "MSE [Lasso]:  1.2634285879433556\n",
      "MSE [kernel ridge linear]:  0.9044423599846368\n",
      "MSE [kernel ridge poly]:  0.8741161686888543\n",
      "MSE [kernel ridge rbf]:  11.833777775565697\n",
      "\n",
      "R Squared Error:\n",
      "R^2 [Linear]:  0.7768937800793557\n",
      "R^2 [Ridge]:  0.7761902415458549\n",
      "R^2 [Lasso]:  0.6055778578190449\n",
      "R^2 [kernel ridge linear]:  0.7176476007361545\n",
      "R^2 [kernel ridge poly]:  0.7271149512846671\n",
      "R^2 [kernel ridge rbf]:  -2.6943156303989384\n"
     ]
    }
   ],
   "source": [
    "print(\"Mean Squared Error:\")\n",
    "print(\"MSE [Linear]: \", mean_squared_error(y_test, y_pred_L))\n",
    "print(\"MSE [Ridge]: \", mean_squared_error(y_test, y_pred_R))\n",
    "print(\"MSE [Lasso]: \", mean_squared_error(y_test, y_pred_L1))\n",
    "print(\"MSE [kernel ridge linear]: \", mean_squared_error(y_test, y_pred_KL))\n",
    "print(\"MSE [kernel ridge poly]: \", mean_squared_error(y_test, y_pred_KP))\n",
    "print(\"MSE [kernel ridge rbf]: \", mean_squared_error(y_test, y_pred_KR))\n",
    "\n",
    "print(\"\\nR Squared Error:\")\n",
    "print(\"R^2 [Linear]: \", r2_score(y_test, y_pred_L))\n",
    "print(\"R^2 [Ridge]: \", r2_score(y_test, y_pred_R))\n",
    "print(\"R^2 [Lasso]: \", r2_score(y_test, y_pred_L1))\n",
    "print(\"R^2 [kernel ridge linear]: \", r2_score(y_test, y_pred_KL))\n",
    "print(\"R^2 [kernel ridge poly]: \", r2_score(y_test, y_pred_KP))\n",
    "print(\"R^2 [kernel ridge rbf]: \", r2_score(y_test, y_pred_KR))"
   ]
  },
  {
   "cell_type": "markdown",
   "id": "9e5b4965",
   "metadata": {},
   "source": [
    "### 1.7 Discussion\n",
    "- Discuss the pros and cons of Linear, Ridge, Lasso, and Kernel Regression models.\n",
    "    - todo***"
   ]
  },
  {
   "cell_type": "markdown",
   "id": "230cd61d",
   "metadata": {},
   "source": [
    "## Task 2: Classification Analysis (Predicting DEATH_EVENT)"
   ]
  },
  {
   "cell_type": "markdown",
   "id": "6dd0d277",
   "metadata": {},
   "source": [
    "### 2.1 Logistic Regression \n",
    "- Train a Logistic Regression model using clinical features to predict DEATH_EVENT\n",
    "- Formulate"
   ]
  },
  {
   "cell_type": "code",
   "execution_count": 133,
   "id": "60993933",
   "metadata": {},
   "outputs": [
    {
     "data": {
      "text/plain": [
       "0    1\n",
       "1    1\n",
       "2    1\n",
       "3    1\n",
       "4    1\n",
       "Name: DEATH_EVENT, dtype: int64"
      ]
     },
     "execution_count": 133,
     "metadata": {},
     "output_type": "execute_result"
    }
   ],
   "source": [
    "Y=df.iloc[:,-2]\n",
    "Y.head()"
   ]
  },
  {
   "cell_type": "code",
   "execution_count": 134,
   "id": "f7dfa34e",
   "metadata": {},
   "outputs": [],
   "source": [
    "# Split the dataset into training (70%) and testing (30%) sets\n",
    "x_train, x_test, y_train, y_test = train_test_split(data, Y, test_size=0.3)"
   ]
  },
  {
   "cell_type": "code",
   "execution_count": 135,
   "id": "ffc1d0a2",
   "metadata": {},
   "outputs": [
    {
     "name": "stdout",
     "output_type": "stream",
     "text": [
      "MSE [LogisticRegression]:  0.2 \n",
      "\n"
     ]
    }
   ],
   "source": [
    "from sklearn.linear_model import LogisticRegression\n",
    "\n",
    "LR = LogisticRegression()\n",
    "LR.fit(x_train, y_train) # training \n",
    "y_pred_LR = LR.predict(x_test) \n",
    "print(\"MSE [LogisticRegression]: \", mean_squared_error(y_test, y_pred_LR), \"\\n\")"
   ]
  },
  {
   "cell_type": "markdown",
   "id": "3a418aab",
   "metadata": {},
   "source": [
    "- Formulate: Write the regression model. Derive the least squares solution. \n",
    "    - todo***"
   ]
  },
  {
   "cell_type": "markdown",
   "id": "d212cc69",
   "metadata": {},
   "source": [
    "### 2.2 Classifier Comparison\n",
    "- Train and compare the following classifiers:\n",
    "    - Support Vector Machine (SVM)\n",
    "        - Linear Kernel\n",
    "        - RBF Kernel\n",
    "        - Formulate: Write the SVM primal and dual problem. Derive the kernelized form.\n",
    "\n"
   ]
  },
  {
   "cell_type": "code",
   "execution_count": 136,
   "id": "91549f1c",
   "metadata": {},
   "outputs": [],
   "source": [
    "from sklearn.svm import SVC\n",
    "\n",
    "# Linear Kernel\n",
    "SVC_L = SVC(kernel='linear')\n",
    "SVC_L.fit(x_train, y_train) # training\n",
    "y_pred_SVC_L = SVC_L.predict(x_test) "
   ]
  },
  {
   "cell_type": "code",
   "execution_count": 137,
   "id": "92d77607",
   "metadata": {},
   "outputs": [],
   "source": [
    "#RBF Kernel\n",
    "SVC_RBF = SVC(kernel='rbf', gamma='scale')\n",
    "SVC_RBF.fit(x_train, y_train) # training\n",
    "y_pred_SVC_RBF = SVC_RBF.predict(x_test) "
   ]
  },
  {
   "cell_type": "markdown",
   "id": "56a54ba6",
   "metadata": {},
   "source": [
    "- Formulate: Write the regression model. Derive the least squares solution. \n",
    "    - todo***"
   ]
  },
  {
   "cell_type": "markdown",
   "id": "023d26d8",
   "metadata": {},
   "source": [
    "### 2.3 Evaluation\n",
    "- Use the following metrics:\n",
    "    - Accuracy\n",
    "    - Precision\n",
    "    - Recall"
   ]
  },
  {
   "cell_type": "code",
   "execution_count": 139,
   "id": "bc86f03e",
   "metadata": {},
   "outputs": [
    {
     "name": "stdout",
     "output_type": "stream",
     "text": [
      "Accuracy:\n",
      "Accuracy [SVM Linear]:  0.7666666666666667\n",
      "Accuracy [SVM RBF]:  0.7\n",
      "Precision:\n",
      "Precision [SVM Linear]:  0.6363636363636364\n",
      "Precision [SVM RBF]:  0.0\n",
      "Recall:\n",
      "Recall [SVM Linear]:  0.5185185185185185\n",
      "Recall [SVM RBF]:  0.0\n"
     ]
    }
   ],
   "source": [
    "from sklearn.metrics import accuracy_score, precision_score, recall_score\n",
    "\n",
    "print(\"Accuracy:\")\n",
    "print(\"Accuracy [SVM Linear]: \", accuracy_score(y_test, y_pred_SVC_L))\n",
    "print(\"Accuracy [SVM RBF]: \", accuracy_score(y_test, y_pred_SVC_RBF))\n",
    "\n",
    "print(\"Precision:\")\n",
    "print(\"Precision [SVM Linear]: \", precision_score(y_test, y_pred_SVC_L, zero_division=0))\n",
    "print(\"Precision [SVM RBF]: \", precision_score(y_test, y_pred_SVC_RBF, zero_division=0))\n",
    "\n",
    "print(\"Recall:\")\n",
    "print(\"Recall [SVM Linear]: \", recall_score(y_test, y_pred_SVC_L, zero_division=0))\n",
    "print(\"Recall [SVM RBF]: \", recall_score(y_test, y_pred_SVC_RBF, zero_division=0))\n"
   ]
  },
  {
   "cell_type": "markdown",
   "id": "1aa4f894",
   "metadata": {},
   "source": [
    "### 2.4 Discussion\n",
    "- Analyze the effectiveness of each classifier:\n",
    "    - todo***\n",
    "- Discuss which model might be most appropriate in a clinical setting:\n",
    "    - todo***\n"
   ]
  }
 ],
 "metadata": {
  "kernelspec": {
   "display_name": "base",
   "language": "python",
   "name": "python3"
  },
  "language_info": {
   "codemirror_mode": {
    "name": "ipython",
    "version": 3
   },
   "file_extension": ".py",
   "mimetype": "text/x-python",
   "name": "python",
   "nbconvert_exporter": "python",
   "pygments_lexer": "ipython3",
   "version": "3.11.13"
  }
 },
 "nbformat": 4,
 "nbformat_minor": 5
}
