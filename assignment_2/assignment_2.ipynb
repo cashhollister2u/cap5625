{
 "cells": [
  {
   "cell_type": "markdown",
   "id": "06e3ddad",
   "metadata": {},
   "source": [
    "# Assignment 2"
   ]
  },
  {
   "cell_type": "markdown",
   "id": "7cc376ff",
   "metadata": {},
   "source": [
    "### Objective:\n",
    "This assignment aims to equip students with hands-on experience in predictive modeling using real-world clinical data related to heart failure. The students will implement regression and classification techniques to predict the severity of a condition and patient survival outcomes."
   ]
  },
  {
   "cell_type": "markdown",
   "id": "89d8cc93",
   "metadata": {},
   "source": [
    "### Dataset:\n",
    "The dataset contains records of 299 patients who suffered heart failure, with 13 clinical features and two target variables: DEATH_EVENT (binary: 0 or 1) and Severity (numerical). You can download the data from the course files section."
   ]
  },
  {
   "cell_type": "markdown",
   "id": "0d9d0cc8",
   "metadata": {},
   "source": [
    "### Reference:\n",
    "Davide Chicco & Giuseppe Jurman (2020): \"Machine learning can predict survival of patients with heart failure from serum creatinine and ejection fraction alone\", BMC Medical Informatics and Decision Making, 20:16."
   ]
  },
  {
   "cell_type": "markdown",
   "id": "847b8606",
   "metadata": {},
   "source": [
    "## Task 1: Regression Analysis (Predicting Severity)"
   ]
  },
  {
   "cell_type": "markdown",
   "id": "c8e9da7c",
   "metadata": {},
   "source": [
    "### 1.1 Data Preparation\n",
    "- Split the dataset into training (70%) and testing (30%) sets.\n",
    "- Formulate: Describe the splitting mathematically"
   ]
  },
  {
   "cell_type": "code",
   "execution_count": 24,
   "id": "9f9a259f",
   "metadata": {},
   "outputs": [],
   "source": [
    "import pandas as pd"
   ]
  },
  {
   "cell_type": "code",
   "execution_count": 25,
   "id": "5b0c18a6",
   "metadata": {},
   "outputs": [
    {
     "data": {
      "text/html": [
       "<div>\n",
       "<style scoped>\n",
       "    .dataframe tbody tr th:only-of-type {\n",
       "        vertical-align: middle;\n",
       "    }\n",
       "\n",
       "    .dataframe tbody tr th {\n",
       "        vertical-align: top;\n",
       "    }\n",
       "\n",
       "    .dataframe thead th {\n",
       "        text-align: right;\n",
       "    }\n",
       "</style>\n",
       "<table border=\"1\" class=\"dataframe\">\n",
       "  <thead>\n",
       "    <tr style=\"text-align: right;\">\n",
       "      <th></th>\n",
       "      <th>age</th>\n",
       "      <th>anaemia</th>\n",
       "      <th>creatinine_phosphokinase</th>\n",
       "      <th>diabetes</th>\n",
       "      <th>ejection_fraction</th>\n",
       "      <th>high_blood_pressure</th>\n",
       "      <th>platelets</th>\n",
       "      <th>serum_creatinine</th>\n",
       "      <th>serum_sodium</th>\n",
       "      <th>sex</th>\n",
       "      <th>smoking</th>\n",
       "      <th>time</th>\n",
       "      <th>DEATH_EVENT</th>\n",
       "      <th>Severity</th>\n",
       "    </tr>\n",
       "  </thead>\n",
       "  <tbody>\n",
       "    <tr>\n",
       "      <th>0</th>\n",
       "      <td>75.0</td>\n",
       "      <td>0</td>\n",
       "      <td>582</td>\n",
       "      <td>0</td>\n",
       "      <td>20</td>\n",
       "      <td>1</td>\n",
       "      <td>265000.00</td>\n",
       "      <td>1.9</td>\n",
       "      <td>130</td>\n",
       "      <td>1</td>\n",
       "      <td>0</td>\n",
       "      <td>4</td>\n",
       "      <td>1</td>\n",
       "      <td>6.6</td>\n",
       "    </tr>\n",
       "    <tr>\n",
       "      <th>1</th>\n",
       "      <td>55.0</td>\n",
       "      <td>0</td>\n",
       "      <td>7861</td>\n",
       "      <td>0</td>\n",
       "      <td>38</td>\n",
       "      <td>0</td>\n",
       "      <td>263358.03</td>\n",
       "      <td>1.1</td>\n",
       "      <td>136</td>\n",
       "      <td>1</td>\n",
       "      <td>0</td>\n",
       "      <td>6</td>\n",
       "      <td>1</td>\n",
       "      <td>2.0</td>\n",
       "    </tr>\n",
       "    <tr>\n",
       "      <th>2</th>\n",
       "      <td>65.0</td>\n",
       "      <td>0</td>\n",
       "      <td>146</td>\n",
       "      <td>0</td>\n",
       "      <td>20</td>\n",
       "      <td>0</td>\n",
       "      <td>162000.00</td>\n",
       "      <td>1.3</td>\n",
       "      <td>129</td>\n",
       "      <td>1</td>\n",
       "      <td>1</td>\n",
       "      <td>7</td>\n",
       "      <td>1</td>\n",
       "      <td>6.4</td>\n",
       "    </tr>\n",
       "    <tr>\n",
       "      <th>3</th>\n",
       "      <td>50.0</td>\n",
       "      <td>1</td>\n",
       "      <td>111</td>\n",
       "      <td>0</td>\n",
       "      <td>20</td>\n",
       "      <td>0</td>\n",
       "      <td>210000.00</td>\n",
       "      <td>1.9</td>\n",
       "      <td>137</td>\n",
       "      <td>1</td>\n",
       "      <td>0</td>\n",
       "      <td>7</td>\n",
       "      <td>1</td>\n",
       "      <td>4.6</td>\n",
       "    </tr>\n",
       "    <tr>\n",
       "      <th>4</th>\n",
       "      <td>65.0</td>\n",
       "      <td>1</td>\n",
       "      <td>160</td>\n",
       "      <td>1</td>\n",
       "      <td>20</td>\n",
       "      <td>0</td>\n",
       "      <td>327000.00</td>\n",
       "      <td>2.7</td>\n",
       "      <td>116</td>\n",
       "      <td>0</td>\n",
       "      <td>0</td>\n",
       "      <td>8</td>\n",
       "      <td>1</td>\n",
       "      <td>8.8</td>\n",
       "    </tr>\n",
       "  </tbody>\n",
       "</table>\n",
       "</div>"
      ],
      "text/plain": [
       "    age  anaemia  creatinine_phosphokinase  diabetes  ejection_fraction  \\\n",
       "0  75.0        0                       582         0                 20   \n",
       "1  55.0        0                      7861         0                 38   \n",
       "2  65.0        0                       146         0                 20   \n",
       "3  50.0        1                       111         0                 20   \n",
       "4  65.0        1                       160         1                 20   \n",
       "\n",
       "   high_blood_pressure  platelets  serum_creatinine  serum_sodium  sex  \\\n",
       "0                    1  265000.00               1.9           130    1   \n",
       "1                    0  263358.03               1.1           136    1   \n",
       "2                    0  162000.00               1.3           129    1   \n",
       "3                    0  210000.00               1.9           137    1   \n",
       "4                    0  327000.00               2.7           116    0   \n",
       "\n",
       "   smoking  time  DEATH_EVENT  Severity  \n",
       "0        0     4            1       6.6  \n",
       "1        0     6            1       2.0  \n",
       "2        1     7            1       6.4  \n",
       "3        0     7            1       4.6  \n",
       "4        0     8            1       8.8  "
      ]
     },
     "execution_count": 25,
     "metadata": {},
     "output_type": "execute_result"
    }
   ],
   "source": [
    "df = pd.read_csv('heart_failure_clinical_records_with_severity (3).csv')\n",
    "df.head()"
   ]
  },
  {
   "cell_type": "code",
   "execution_count": 26,
   "id": "3248edd2",
   "metadata": {},
   "outputs": [
    {
     "data": {
      "text/html": [
       "<div>\n",
       "<style scoped>\n",
       "    .dataframe tbody tr th:only-of-type {\n",
       "        vertical-align: middle;\n",
       "    }\n",
       "\n",
       "    .dataframe tbody tr th {\n",
       "        vertical-align: top;\n",
       "    }\n",
       "\n",
       "    .dataframe thead th {\n",
       "        text-align: right;\n",
       "    }\n",
       "</style>\n",
       "<table border=\"1\" class=\"dataframe\">\n",
       "  <thead>\n",
       "    <tr style=\"text-align: right;\">\n",
       "      <th></th>\n",
       "      <th>age</th>\n",
       "      <th>anaemia</th>\n",
       "      <th>creatinine_phosphokinase</th>\n",
       "      <th>diabetes</th>\n",
       "      <th>ejection_fraction</th>\n",
       "      <th>high_blood_pressure</th>\n",
       "      <th>platelets</th>\n",
       "      <th>serum_creatinine</th>\n",
       "      <th>serum_sodium</th>\n",
       "      <th>sex</th>\n",
       "      <th>smoking</th>\n",
       "      <th>time</th>\n",
       "    </tr>\n",
       "  </thead>\n",
       "  <tbody>\n",
       "    <tr>\n",
       "      <th>0</th>\n",
       "      <td>75.0</td>\n",
       "      <td>0</td>\n",
       "      <td>582</td>\n",
       "      <td>0</td>\n",
       "      <td>20</td>\n",
       "      <td>1</td>\n",
       "      <td>265000.00</td>\n",
       "      <td>1.9</td>\n",
       "      <td>130</td>\n",
       "      <td>1</td>\n",
       "      <td>0</td>\n",
       "      <td>4</td>\n",
       "    </tr>\n",
       "    <tr>\n",
       "      <th>1</th>\n",
       "      <td>55.0</td>\n",
       "      <td>0</td>\n",
       "      <td>7861</td>\n",
       "      <td>0</td>\n",
       "      <td>38</td>\n",
       "      <td>0</td>\n",
       "      <td>263358.03</td>\n",
       "      <td>1.1</td>\n",
       "      <td>136</td>\n",
       "      <td>1</td>\n",
       "      <td>0</td>\n",
       "      <td>6</td>\n",
       "    </tr>\n",
       "    <tr>\n",
       "      <th>2</th>\n",
       "      <td>65.0</td>\n",
       "      <td>0</td>\n",
       "      <td>146</td>\n",
       "      <td>0</td>\n",
       "      <td>20</td>\n",
       "      <td>0</td>\n",
       "      <td>162000.00</td>\n",
       "      <td>1.3</td>\n",
       "      <td>129</td>\n",
       "      <td>1</td>\n",
       "      <td>1</td>\n",
       "      <td>7</td>\n",
       "    </tr>\n",
       "    <tr>\n",
       "      <th>3</th>\n",
       "      <td>50.0</td>\n",
       "      <td>1</td>\n",
       "      <td>111</td>\n",
       "      <td>0</td>\n",
       "      <td>20</td>\n",
       "      <td>0</td>\n",
       "      <td>210000.00</td>\n",
       "      <td>1.9</td>\n",
       "      <td>137</td>\n",
       "      <td>1</td>\n",
       "      <td>0</td>\n",
       "      <td>7</td>\n",
       "    </tr>\n",
       "    <tr>\n",
       "      <th>4</th>\n",
       "      <td>65.0</td>\n",
       "      <td>1</td>\n",
       "      <td>160</td>\n",
       "      <td>1</td>\n",
       "      <td>20</td>\n",
       "      <td>0</td>\n",
       "      <td>327000.00</td>\n",
       "      <td>2.7</td>\n",
       "      <td>116</td>\n",
       "      <td>0</td>\n",
       "      <td>0</td>\n",
       "      <td>8</td>\n",
       "    </tr>\n",
       "  </tbody>\n",
       "</table>\n",
       "</div>"
      ],
      "text/plain": [
       "    age  anaemia  creatinine_phosphokinase  diabetes  ejection_fraction  \\\n",
       "0  75.0        0                       582         0                 20   \n",
       "1  55.0        0                      7861         0                 38   \n",
       "2  65.0        0                       146         0                 20   \n",
       "3  50.0        1                       111         0                 20   \n",
       "4  65.0        1                       160         1                 20   \n",
       "\n",
       "   high_blood_pressure  platelets  serum_creatinine  serum_sodium  sex  \\\n",
       "0                    1  265000.00               1.9           130    1   \n",
       "1                    0  263358.03               1.1           136    1   \n",
       "2                    0  162000.00               1.3           129    1   \n",
       "3                    0  210000.00               1.9           137    1   \n",
       "4                    0  327000.00               2.7           116    0   \n",
       "\n",
       "   smoking  time  \n",
       "0        0     4  \n",
       "1        0     6  \n",
       "2        1     7  \n",
       "3        0     7  \n",
       "4        0     8  "
      ]
     },
     "execution_count": 26,
     "metadata": {},
     "output_type": "execute_result"
    }
   ],
   "source": [
    "data = df.iloc[:,:-2]\n",
    "data.head()\n"
   ]
  },
  {
   "cell_type": "code",
   "execution_count": 27,
   "id": "6e7b6411",
   "metadata": {},
   "outputs": [
    {
     "data": {
      "text/plain": [
       "0    6.6\n",
       "1    2.0\n",
       "2    6.4\n",
       "3    4.6\n",
       "4    8.8\n",
       "Name: Severity, dtype: float64"
      ]
     },
     "execution_count": 27,
     "metadata": {},
     "output_type": "execute_result"
    }
   ],
   "source": [
    "Y=df.iloc[:,-1]\n",
    "Y.head()"
   ]
  },
  {
   "cell_type": "code",
   "execution_count": 28,
   "id": "0d412ef3",
   "metadata": {},
   "outputs": [],
   "source": [
    "from sklearn.model_selection import train_test_split\n",
    "# Split the dataset into training (70%) and testing (30%) sets\n",
    "x_train, x_test, y_train, y_test = train_test_split(data, Y, test_size=0.3)"
   ]
  },
  {
   "cell_type": "markdown",
   "id": "2adec6f0",
   "metadata": {},
   "source": [
    "- Formulate: Describe the splitting mathematically\n",
    "    $$ data = (x_{\\text{train}}, y_{\\text{train}}) U (y_{\\text{test}}, x_{\\text{test}}) $$\n",
    "    $$ where $$\n",
    "    $$ |(x_{\\text{train}}, y_{\\text{train}})| = 0.7 |data| $$\n",
    "    $$ |(x_{\\text{test}}, y_{\\text{test}})| = 0.3 |data| $$"
   ]
  },
  {
   "cell_type": "markdown",
   "id": "531faa75",
   "metadata": {},
   "source": [
    "### 1.2 Linear Regression\n",
    "- Train a Linear Regression model to predict Severity using all available clinical features except DEATH_EVENT.\n",
    "- Formulate: Write the regression model. Derive the least squares solution. "
   ]
  },
  {
   "cell_type": "code",
   "execution_count": 29,
   "id": "c26f8783",
   "metadata": {},
   "outputs": [
    {
     "name": "stdout",
     "output_type": "stream",
     "text": [
      "MSE [Linear]:  0.628477105371346 \n",
      "\n"
     ]
    }
   ],
   "source": [
    "from sklearn.linear_model import LinearRegression\n",
    "from sklearn.metrics import mean_squared_error, r2_score\n",
    "\n",
    "# Train a Linear Regression model to predict Severity using all available clinical features except DEATH_EVENT\n",
    "L = LinearRegression()\n",
    "L.fit(x_train, y_train) # training \n",
    "y_pred_L = L.predict(x_test) \n",
    "print(\"MSE [Linear]: \", mean_squared_error(y_test, y_pred_L), \"\\n\")"
   ]
  },
  {
   "cell_type": "markdown",
   "id": "2142091b",
   "metadata": {},
   "source": [
    "- Formulate: Write the regression model. Derive the least squares solution. \n",
    "    $$ \\bar{Y} = \\bar{D} \\cdot w + e $$\n",
    "    $$ \\min_w \\| \\bar{Y} - \\bar{D} w \\|^2 $$\n",
    "    $$\\frac{dJ}{d \\widetilde{w}} = -2\\widetilde{D}^TY+2\\widetilde{D}^T\\widetilde{D} \\widetilde{w} $$\n",
    "    $$ 0 = -2\\widetilde{D}^TY+2\\widetilde{D}^T\\widetilde{D} \\widetilde{w} $$\n",
    "    $$ \\widetilde{D}^T\\widetilde{D} \\widetilde{w} = \\widetilde{D}^TY $$\n",
    "    $$ \\widetilde{w} = ( \\widetilde{D}^T\\widetilde{D} )^{-1} \\widetilde{D}^TY $$\n"
   ]
  },
  {
   "cell_type": "markdown",
   "id": "9479d01d",
   "metadata": {},
   "source": [
    "### 1.3 Ridge Regression\n",
    "- Train a Ridge Regression model with regularization.\n",
    "- Formulate: Derive the closed-form solution"
   ]
  },
  {
   "cell_type": "code",
   "execution_count": null,
   "id": "2da23531",
   "metadata": {},
   "outputs": [
    {
     "name": "stdout",
     "output_type": "stream",
     "text": [
      "MSE [Ridge]:  0.6269771655910469 \n",
      "\n"
     ]
    }
   ],
   "source": [
    "from sklearn.linear_model import Ridge\n",
    "\n",
    "R = Ridge(alpha=0.5)\n",
    "R.fit(x_train, y_train) # training \n",
    "y_pred_R = R.predict(x_test) \n",
    "print(\"MSE [Ridge]: \", mean_squared_error(y_test, y_pred_R), \"\\n\")"
   ]
  },
  {
   "cell_type": "markdown",
   "id": "6cfda5b3",
   "metadata": {},
   "source": [
    "- Formulate: Write the regression model. Derive the least squares solution. \n",
    "    $$ \\widehat{w}^{\\text{ridge}} = arg\\min_w \\| \\bar{Y} - \\bar{D} w \\|^2 + \\alpha ||w||^2$$\n",
    "    $$ J = Y^TY-2\\widetilde{D}^TY\\widetilde{w}+\\widetilde{w}\\widetilde{D}^T\\widetilde{D} \\widetilde{w} + \\alpha \\widetilde{w}^T\\widetilde{w}$$\n",
    "    $$ \\frac{dJ}{d \\widetilde{w}} = 2\\widetilde{D}Y + 2\\widetilde{D}^T\\widetilde{D}\\widetilde{w} + 2\\alpha \\widetilde{w} $$\n",
    "    $$ 0 = 2\\widetilde{D}Y + 2\\widetilde{D}^T\\widetilde{D}\\widetilde{w} + 2\\alpha \\widetilde{w} $$\n",
    "    $$ \\widetilde{D}^T\\widetilde{D} \\widetilde{w} + \\alpha \\widetilde{w} = \\widetilde{D}^TY $$\n",
    "    $$ (\\widetilde{D}^T\\widetilde{D} + \\alpha I) \\widetilde{w} = \\widetilde{D}^TY $$\n",
    "    $$  \\widetilde{w} = (\\widetilde{D}^T\\widetilde{D} + \\alpha I)^{-1} \\widetilde{D}^TY $$"
   ]
  },
  {
   "cell_type": "markdown",
   "id": "50864034",
   "metadata": {},
   "source": [
    "### 1.4 Lasso Regression\n",
    "- Train a Lasso Regression model and identify the most important features.\n",
    "- Formulate"
   ]
  },
  {
   "cell_type": "code",
   "execution_count": 31,
   "id": "a99ff32c",
   "metadata": {},
   "outputs": [
    {
     "name": "stdout",
     "output_type": "stream",
     "text": [
      "MSE [Lasso]:  1.2091446297984814 \n",
      "\n",
      "age: 0.04617194233749001\n",
      "anaemia: 0.0\n",
      "creatinine_phosphokinase: -0.00010910027079665507\n",
      "diabetes: 0.0\n",
      "ejection_fraction: -0.06211179683259887\n",
      "high_blood_pressure: 0.0\n",
      "platelets: -3.071076337915684e-07\n",
      "serum_creatinine: 0.0\n",
      "serum_sodium: -0.08104630201199649\n",
      "sex: 0.0\n",
      "smoking: 0.0\n",
      "time: -0.005687918559922949\n"
     ]
    }
   ],
   "source": [
    "from sklearn.linear_model import Lasso\n",
    "\n",
    "L1 = Lasso()\n",
    "L1.fit(x_train, y_train) # training \n",
    "y_pred_L1 = L1.predict(x_test) \n",
    "print(\"MSE [Lasso]: \", mean_squared_error(y_test, y_pred_L1), \"\\n\")\n",
    "\n",
    "# Imporant for feature selection\n",
    "for col, coef in zip(data.columns, L1.coef_):\n",
    "    print(f\"{col}: {coef}\")"
   ]
  },
  {
   "cell_type": "markdown",
   "id": "70505680",
   "metadata": {},
   "source": [
    "- Identify the most important features:\n",
    "    - age\n",
    "    - creatinine_phosphokinase\n",
    "    - ejection_fraction\n",
    "    - serum_sodium\n",
    "    - time\n",
    "\n",
    "- The above features have the most significant impact on the predictions made. All other features either have a coef value of 0 or close to 0 relative to the important features. "
   ]
  },
  {
   "cell_type": "markdown",
   "id": "a9f639de",
   "metadata": {},
   "source": [
    "- Formulate:  \n",
    "    $$ \\widehat{w}^{\\text{lasso}} = arg\\min_w \\| \\bar{Y} - \\bar{D} w \\|^2 + \\Sigma^{p}_{j=1} |w_j|$$\n",
    "    $$ \\widehat{w}^{\\text{lasso}} = \\arg\\min_w \\| \\bar{Y} - \\bar{D} w \\|^2 + \\alpha \\|w\\|_1 $$\n"
   ]
  },
  {
   "cell_type": "markdown",
   "id": "02b707c5",
   "metadata": {},
   "source": [
    "### 1.5 Kernel Regression\n",
    "- Apply Kernel Regression with three kernels:\n",
    "    - Linear\n",
    "    - Polynomial\n",
    "    - Radial Basis Function (RBF)\n",
    "- Formulate: Derive the kernel regression estimator\n"
   ]
  },
  {
   "cell_type": "code",
   "execution_count": 32,
   "id": "b9f073b8",
   "metadata": {},
   "outputs": [
    {
     "name": "stdout",
     "output_type": "stream",
     "text": [
      "MSE [kernel ridge linear]:  0.9334311006256635 \n",
      "\n"
     ]
    }
   ],
   "source": [
    "from sklearn.kernel_ridge import KernelRidge\n",
    "\n",
    "KL = KernelRidge(kernel='linear')\n",
    "KL.fit(x_train, y_train) # training \n",
    "y_pred_KL = KL.predict(x_test) \n",
    "print(\"MSE [kernel ridge linear]: \", mean_squared_error(y_test, y_pred_KL), \"\\n\")"
   ]
  },
  {
   "cell_type": "code",
   "execution_count": 33,
   "id": "3e62184b",
   "metadata": {},
   "outputs": [
    {
     "name": "stdout",
     "output_type": "stream",
     "text": [
      "MSE [kernel ridge poly]:  0.8599968338022204 \n",
      "\n"
     ]
    }
   ],
   "source": [
    "KP = KernelRidge(kernel='poly', degree=1)\n",
    "KP.fit(x_train, y_train) # training \n",
    "y_pred_KP = KP.predict(x_test) \n",
    "print(\"MSE [kernel ridge poly]: \", mean_squared_error(y_test, y_pred_KP), \"\\n\")"
   ]
  },
  {
   "cell_type": "code",
   "execution_count": 34,
   "id": "70252cab",
   "metadata": {},
   "outputs": [
    {
     "name": "stdout",
     "output_type": "stream",
     "text": [
      "MSE [kernel ridge rbf]:  13.633333333333294 \n",
      "\n"
     ]
    }
   ],
   "source": [
    "KR = KernelRidge(kernel='rbf', gamma=0.1)\n",
    "KR.fit(x_train, y_train) # training \n",
    "y_pred_KR = KR.predict(x_test) \n",
    "print(\"MSE [kernel ridge rbf]: \", mean_squared_error(y_test, y_pred_KR), \"\\n\")"
   ]
  },
  {
   "cell_type": "markdown",
   "id": "a417a870",
   "metadata": {},
   "source": [
    "- Formulate: Derive the kernel regression estimator\n",
    "    $$ \\hat{f}(x) = \\Sigma^n_{i=1} \\alpha_i K(x, x_i) $$\n",
    "    $$ J = || Y - \\widetilde{D}_{\\phi}\\widetilde{w}||^2 + \\alpha||\\widetilde{w}||^2$$\n",
    "    $$ \\hat{y} = \\widetilde{D}_{\\phi} \\widetilde{w} $$\n",
    "    $$ \\widetilde{D}_{\\phi} = \\widetilde{\\phi}(x_n)$$\n",
    "    $$ J = ( Y - \\widetilde{D}_{\\phi}\\widetilde{w})^T(Y - \\widetilde{D}_{\\phi}\\widetilde{w}) + \\alpha \\widetilde{w}^T\\widetilde{w} $$\n",
    "    $$ J = Y^TY - 2\\widetilde{D}_{\\phi} ^TY\\widetilde{w} + \\widetilde{w} ^T \\widetilde{D}_{\\phi} ^T \\widetilde{D}_{\\phi} \\widetilde{w} + \\alpha \\widetilde{w}^T\\widetilde{w} $$\n",
    "    $$ \\frac{dJ} {\\widetilde{w}} = 0 $$\n",
    "    $$ \\frac{dJ} {\\widetilde{w}} = 0 - 2\\widetilde{D}_{\\phi} ^TY + 2\\widetilde{D}_{\\phi} ^T \\widetilde{D}_{\\phi} \\widetilde{w} + 2\\alpha \\widetilde{w}$$\n",
    "    $$ 0 = 0 - 2\\widetilde{D}_{\\phi} ^TY + 2\\widetilde{D}_{\\phi} ^T \\widetilde{D}_{\\phi} \\widetilde{w} + 2\\alpha \\widetilde{w}$$\n",
    "    $$ \\alpha \\widetilde{w} = \\widetilde{D}_{\\phi} ^TY + \\widetilde{D}_{\\phi} ^T \\widetilde{D}_{\\phi} \\widetilde{w} $$\n",
    "    $$ \\alpha \\widetilde{w} = \\widetilde{D}_{\\phi}^T(Y-\\widetilde{D}_{\\phi}\\widetilde{w})$$\n",
    "    $$ \\widetilde{w} = \\widetilde{D}_{\\phi}^T \\frac{1}{\\alpha} (Y- \\widetilde{D}_{\\phi} \\widetilde{w}) $$\n",
    "\n",
    "    $$ \\widetilde{w} = \\widetilde{D}_{\\phi}^T \\vec{c}$$\n",
    "    $$ \\vec{c} = \\frac{1}{\\alpha} (Y- \\widetilde{D}_{\\phi}\\widetilde{D}_{\\phi}^T \\vec{c}) $$\n",
    "    $$ \\widetilde{D}_{\\phi}\\widetilde{D}_{\\phi}^T \\vec{c} + \\alpha \\vec{c} = Y $$\n",
    "    $$ (\\widetilde{D}_{\\phi}\\widetilde{D}_{\\phi}^T + \\alpha I) \\vec{c} = Y $$\n",
    "    $$ \\vec{c} = (\\widetilde{D}_{\\phi}\\widetilde{D}_{\\phi}^T + \\alpha I)^{-1}Y $$\n",
    "    $$ \\vec{c} = (\\widetilde{K}+\\alpha I)^{-1}Y $$\n",
    "    $$ \\hat{y} = \\widetilde{K}(\\widetilde{K}+\\alpha I)^{-1}Y $$\n"
   ]
  },
  {
   "cell_type": "markdown",
   "id": "c3884737",
   "metadata": {},
   "source": [
    "### 1.6 Evaluation\n",
    "- Evaluate all models using:\n",
    "    - Mean Squared Error (MSE)\n",
    "    - R-squared "
   ]
  },
  {
   "cell_type": "code",
   "execution_count": 35,
   "id": "37c4b451",
   "metadata": {},
   "outputs": [
    {
     "name": "stdout",
     "output_type": "stream",
     "text": [
      "Mean Squared Error:\n",
      "MSE [Linear]:  0.628477105371346\n",
      "MSE [Ridge]:  0.6269771655910469\n",
      "MSE [Lasso]:  1.2091446297984814\n",
      "MSE [kernel ridge linear]:  0.9334311006256635\n",
      "MSE [kernel ridge poly]:  0.8599968338022204\n",
      "MSE [kernel ridge rbf]:  13.633333333333294\n",
      "\n",
      "R Squared Error:\n",
      "R^2 [Linear]:  0.829672795186094\n",
      "R^2 [Ridge]:  0.8300793025162483\n",
      "R^2 [Lasso]:  0.6723027406262774\n",
      "R^2 [kernel ridge linear]:  0.7470254542335382\n",
      "R^2 [kernel ridge poly]:  0.7669272983877579\n",
      "R^2 [kernel ridge rbf]:  -2.6948482913961413\n"
     ]
    }
   ],
   "source": [
    "print(\"Mean Squared Error:\")\n",
    "print(\"MSE [Linear]: \", mean_squared_error(y_test, y_pred_L))\n",
    "print(\"MSE [Ridge]: \", mean_squared_error(y_test, y_pred_R))\n",
    "print(\"MSE [Lasso]: \", mean_squared_error(y_test, y_pred_L1))\n",
    "print(\"MSE [kernel ridge linear]: \", mean_squared_error(y_test, y_pred_KL))\n",
    "print(\"MSE [kernel ridge poly]: \", mean_squared_error(y_test, y_pred_KP))\n",
    "print(\"MSE [kernel ridge rbf]: \", mean_squared_error(y_test, y_pred_KR))\n",
    "\n",
    "print(\"\\nR Squared Error:\")\n",
    "print(\"R^2 [Linear]: \", r2_score(y_test, y_pred_L))\n",
    "print(\"R^2 [Ridge]: \", r2_score(y_test, y_pred_R))\n",
    "print(\"R^2 [Lasso]: \", r2_score(y_test, y_pred_L1))\n",
    "print(\"R^2 [kernel ridge linear]: \", r2_score(y_test, y_pred_KL))\n",
    "print(\"R^2 [kernel ridge poly]: \", r2_score(y_test, y_pred_KP))\n",
    "print(\"R^2 [kernel ridge rbf]: \", r2_score(y_test, y_pred_KR))"
   ]
  },
  {
   "cell_type": "markdown",
   "id": "9e5b4965",
   "metadata": {},
   "source": [
    "### 1.7 Discussion\n",
    "- Discuss the pros and cons of Linear, Ridge, Lasso, and Kernel Regression models.\n",
    "    - todo***"
   ]
  },
  {
   "cell_type": "markdown",
   "id": "230cd61d",
   "metadata": {},
   "source": [
    "## Task 2: Classification Analysis (Predicting DEATH_EVENT)"
   ]
  },
  {
   "cell_type": "markdown",
   "id": "6dd0d277",
   "metadata": {},
   "source": [
    "### 2.1 Logistic Regression \n",
    "- Train a Logistic Regression model using clinical features to predict DEATH_EVENT\n",
    "- Formulate: Derive the log-likelihood for MLE"
   ]
  },
  {
   "cell_type": "code",
   "execution_count": 36,
   "id": "60993933",
   "metadata": {},
   "outputs": [
    {
     "data": {
      "text/plain": [
       "0    1\n",
       "1    1\n",
       "2    1\n",
       "3    1\n",
       "4    1\n",
       "Name: DEATH_EVENT, dtype: int64"
      ]
     },
     "execution_count": 36,
     "metadata": {},
     "output_type": "execute_result"
    }
   ],
   "source": [
    "Y=df.iloc[:,-2]\n",
    "Y.head()"
   ]
  },
  {
   "cell_type": "code",
   "execution_count": 37,
   "id": "f7dfa34e",
   "metadata": {},
   "outputs": [],
   "source": [
    "# Split the dataset into training (70%) and testing (30%) sets\n",
    "x_train, x_test, y_train, y_test = train_test_split(data, Y, test_size=0.3)"
   ]
  },
  {
   "cell_type": "code",
   "execution_count": 38,
   "id": "ffc1d0a2",
   "metadata": {},
   "outputs": [
    {
     "name": "stdout",
     "output_type": "stream",
     "text": [
      "MSE [LogisticRegression]:  0.16666666666666666 \n",
      "\n"
     ]
    },
    {
     "name": "stderr",
     "output_type": "stream",
     "text": [
      "/Users/cashhollister/anaconda3/lib/python3.11/site-packages/sklearn/linear_model/_logistic.py:460: ConvergenceWarning: lbfgs failed to converge (status=1):\n",
      "STOP: TOTAL NO. OF ITERATIONS REACHED LIMIT.\n",
      "\n",
      "Increase the number of iterations (max_iter) or scale the data as shown in:\n",
      "    https://scikit-learn.org/stable/modules/preprocessing.html\n",
      "Please also refer to the documentation for alternative solver options:\n",
      "    https://scikit-learn.org/stable/modules/linear_model.html#logistic-regression\n",
      "  n_iter_i = _check_optimize_result(\n"
     ]
    }
   ],
   "source": [
    "from sklearn.linear_model import LogisticRegression\n",
    "\n",
    "LR = LogisticRegression()\n",
    "LR.fit(x_train, y_train) # training \n",
    "y_pred_LR = LR.predict(x_test) \n",
    "print(\"MSE [LogisticRegression]: \", mean_squared_error(y_test, y_pred_LR), \"\\n\")"
   ]
  },
  {
   "cell_type": "markdown",
   "id": "3a418aab",
   "metadata": {},
   "source": [
    "- Formulate: Derive the log-likelihood for MLE\n",
    "    $$ P(Y = 1 | x) = \\frac{1} {1+ e^{-w^Tx}}$$\n",
    "    $$ P(Y_i = 1 | \\widetilde{x}_i) = \\Pi(\\widetilde{x}_i) $$\n",
    "    $$ \\text{Probability of output for class 1: } $$\n",
    "    $$ \\Pi(\\widetilde{x}_i) = P(Y_i = 1 | \\widetilde{x}_i) = \\sigma (\\widetilde{w}^T\\widetilde{x}_i) $$ \n",
    "    $$ P(Y_i | \\widetilde{x}_i) = \\sigma(\\widetilde{x}^Tx_i)^{Y_i}(1- \\sigma(\\widetilde{x}^Tx_i)^{1- Y_i}) $$\n",
    "    $$ P(\\frac{D} {\\widetilde{w}}) = \\prod_{i=1}^{n} P({Y_i}|{x_i}) $$\n",
    "    $$ P(\\frac{D} {\\widetilde{w}}) =\\prod_{i=1}^{n} \\sigma(\\widetilde{x}^Tx_i)^{Y_i}(1- \\sigma(\\widetilde{x}^Tx_i)^{1- Y_i})$$\n",
    "    $$ \\text{Log-likelihood for MLE: } $$\n",
    "    $$ \\max P(\\frac{D} {\\widetilde{w}}) = \\max ln P(\\frac{D} {\\widetilde{w}}) $$\n",
    "    $$ ln P(\\frac{D} {\\widetilde{w}}) = ln ( \\prod_{i=1}^{n} \\sigma(\\widetilde{x}^Tx_i)^{Y_i}(1- \\sigma(\\widetilde{x}^Tx_i)^{1- Y_i}))$$\n",
    "    $$ = \\sum_{i=1}^{n} ln[\\sigma(\\widetilde{x}^Tx_i)^{Y_i}(1- \\sigma(\\widetilde{x}^Tx_i)^{1- Y_i})]$$\n",
    "    $$ = \\sum_{i=1}^{n} [ln\\sigma(\\widetilde{x}^Tx_i)^{Y_i}+ln(1- \\sigma(\\widetilde{x}^Tx_i)^{1- Y_i})]$$\n",
    "    $$ = \\sum_{i=1}^{n} [{Y_i}ln\\sigma(\\widetilde{x}^Tx_i)+({1- Y_i})ln(1- \\sigma(\\widetilde{x}^Tx_i))]$$"
   ]
  },
  {
   "cell_type": "markdown",
   "id": "d212cc69",
   "metadata": {},
   "source": [
    "### 2.2 Classifier Comparison\n",
    "- Train and compare the following classifiers:\n",
    "    - Support Vector Machine (SVM)\n",
    "        - Linear Kernel\n",
    "        - RBF Kernel\n",
    "        - Formulate: Write the SVM primal and dual problem. Derive the kernelized form.\n",
    "\n"
   ]
  },
  {
   "cell_type": "code",
   "execution_count": 39,
   "id": "d6571dee",
   "metadata": {},
   "outputs": [],
   "source": [
    "from sklearn.metrics import accuracy_score, precision_score, recall_score"
   ]
  },
  {
   "cell_type": "code",
   "execution_count": 40,
   "id": "91549f1c",
   "metadata": {},
   "outputs": [
    {
     "name": "stdout",
     "output_type": "stream",
     "text": [
      "0.7444444444444445\n"
     ]
    }
   ],
   "source": [
    "from sklearn.svm import SVC\n",
    "\n",
    "# Linear Kernel\n",
    "svm_model_l = SVC(kernel='linear')\n",
    "svm_model_l.fit(x_train, y_train) # training\n",
    "svm_pred_l = svm_model_l.predict(x_test) \n",
    "print(accuracy_score(y_test,svm_pred_l))"
   ]
  },
  {
   "cell_type": "code",
   "execution_count": 41,
   "id": "92d77607",
   "metadata": {},
   "outputs": [
    {
     "name": "stdout",
     "output_type": "stream",
     "text": [
      "0.6222222222222222\n"
     ]
    }
   ],
   "source": [
    "#RBF Kernel\n",
    "svm_model_rbf = SVC(kernel='rbf', gamma='scale')\n",
    "svm_model_rbf.fit(x_train, y_train) # training\n",
    "svm_pred_rbf = svm_model_rbf.predict(x_test) \n",
    "print(accuracy_score(y_test,svm_pred_rbf))"
   ]
  },
  {
   "cell_type": "markdown",
   "id": "56a54ba6",
   "metadata": {},
   "source": [
    "- Formulate: Write the regression model. Derive the least squares solution. \n",
    "    - todo***"
   ]
  },
  {
   "cell_type": "markdown",
   "id": "023d26d8",
   "metadata": {},
   "source": [
    "### 2.3 Evaluation\n",
    "- Use the following metrics:\n",
    "    - Accuracy\n",
    "    - Precision\n",
    "    - Recall"
   ]
  },
  {
   "cell_type": "code",
   "execution_count": 42,
   "id": "bc86f03e",
   "metadata": {},
   "outputs": [
    {
     "name": "stdout",
     "output_type": "stream",
     "text": [
      "Accuracy:\n",
      "Accuracy [SVM Linear]:  0.7444444444444445\n",
      "Accuracy [SVM RBF]:  0.6222222222222222\n",
      "Precision:\n",
      "Precision [SVM Linear]:  0.8235294117647058\n",
      "Precision [SVM RBF]:  0.0\n",
      "Recall:\n",
      "Recall [SVM Linear]:  0.4117647058823529\n",
      "Recall [SVM RBF]:  0.0\n"
     ]
    }
   ],
   "source": [
    "print(\"Accuracy:\")\n",
    "print(\"Accuracy [SVM Linear]: \", accuracy_score(y_test, svm_pred_l))\n",
    "print(\"Accuracy [SVM RBF]: \", accuracy_score(y_test, svm_pred_rbf))\n",
    "\n",
    "print(\"Precision:\")\n",
    "print(\"Precision [SVM Linear]: \", precision_score(y_test, svm_pred_l, zero_division=0))\n",
    "print(\"Precision [SVM RBF]: \", precision_score(y_test, svm_pred_rbf, zero_division=0))\n",
    "\n",
    "print(\"Recall:\")\n",
    "print(\"Recall [SVM Linear]: \", recall_score(y_test, svm_pred_l, zero_division=0))\n",
    "print(\"Recall [SVM RBF]: \", recall_score(y_test, svm_pred_rbf, zero_division=0))\n"
   ]
  },
  {
   "cell_type": "markdown",
   "id": "1aa4f894",
   "metadata": {},
   "source": [
    "### 2.4 Discussion\n",
    "- Analyze the effectiveness of each classifier:\n",
    "    - todo***\n",
    "- Discuss which model might be most appropriate in a clinical setting:\n",
    "    - todo***\n"
   ]
  }
 ],
 "metadata": {
  "kernelspec": {
   "display_name": "base",
   "language": "python",
   "name": "python3"
  },
  "language_info": {
   "codemirror_mode": {
    "name": "ipython",
    "version": 3
   },
   "file_extension": ".py",
   "mimetype": "text/x-python",
   "name": "python",
   "nbconvert_exporter": "python",
   "pygments_lexer": "ipython3",
   "version": "3.11.13"
  }
 },
 "nbformat": 4,
 "nbformat_minor": 5
}
